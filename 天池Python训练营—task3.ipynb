{
 "cells": [
  {
   "cell_type": "markdown",
   "metadata": {},
   "source": [
    "# 函数"
   ]
  },
  {
   "cell_type": "markdown",
   "metadata": {},
   "source": [
    "## 函数文档"
   ]
  },
  {
   "cell_type": "code",
   "execution_count": 6,
   "metadata": {},
   "outputs": [
    {
     "name": "stdout",
     "output_type": "stream",
     "text": [
      "传递进来的哈哈哈叫做实参，因为它是具体的参数值\n",
      "函数定义过程中name是形参\n",
      "Help on function MyFirstFunction in module __main__:\n",
      "\n",
      "MyFirstFunction(name)\n",
      "    函数定义过程中name是形参\n",
      "\n"
     ]
    }
   ],
   "source": [
    "def MyFirstFunction(name):\n",
    "    \"函数定义过程中name是形参\"\n",
    "    # 因为Ta只是一个形式，表示占据一个参数位置\n",
    "    print('传递进来的{0}叫做实参，因为它是具体的参数值'.format(name))\n",
    "\n",
    "MyFirstFunction('哈哈哈')\n",
    "print(MyFirstFunction.__doc__)\n",
    "help(MyFirstFunction)"
   ]
  },
  {
   "cell_type": "markdown",
   "metadata": {},
   "source": [
    "## 函数文档"
   ]
  },
  {
   "cell_type": "code",
   "execution_count": null,
   "metadata": {},
   "outputs": [],
   "source": [
    "Python 的函数具有非常灵活多样的参数形态，既可以实现简单的调用，又可以传入非常复杂的参数。从简到繁的参数形态如下：\n",
    "1. 位置参数 (positional argument)\n",
    "\n",
    "2. 默认参数 (default argument)\n",
    "Python 允许函数调用时参数的顺序与声明时不一致，因为 Python 解释器能够用参数名匹配参数值。\n",
    "\n",
    "3. 可变参数 (variable argument)\n",
    "*args - 可变参数，可以是从零个到任意个，自动组装成元组。\n",
    "加了星号（*）的变量名会存放所有未命名的变量参数。\n",
    "\n",
    "4. 关键字参数 (keyword argument)\n",
    "**kw - 关键字参数，可以是从零个到任意个，自动组装成字典。\n",
    "\n",
    "5. 命名关键字参数 (name keyword argument)\n",
    "*, nkw - 命名关键字参数，用户想要输入的关键字参数，定义方式是在nkw 前面加个分隔符 *。\n",
    "如果要限制关键字参数的名字，就可以用「命名关键字参数」\n",
    "使用命名关键字参数时，要特别注意不能缺少参数名。\n",
    "\n",
    "6. 参数组合\n",
    "在 Python 中定义函数，可以用位置参数、默认参数、可变参数、命名关键字参数和关键字参数.\n",
    "这 5 种参数中的 4 个都可以一起使用，参数定义的顺序必须是：\n",
    "位置参数、默认参数、可变参数和关键字参数。\n",
    "位置参数、默认参数、命名关键字参数和关键字参数。\n",
    "\n",
    "定义可变参数和关键字参数的语法：\n",
    "*args 是可变参数，args 接收的是一个 tuple\n",
    "**kw 是关键字参数，kw 接收的是一个 dict\n",
    "\n",
    "命名关键字参数是为了限制调用者可以传入的参数名，同时可以提供默认值。\n",
    "定义命名关键字参数不要忘了写分隔符 *，否则定义的是位置参数。"
   ]
  },
  {
   "cell_type": "code",
   "execution_count": 8,
   "metadata": {},
   "outputs": [
    {
     "name": "stdout",
     "output_type": "stream",
     "text": [
      "Name:小马,Age:8\n",
      "Name:小马,Age:10\n"
     ]
    }
   ],
   "source": [
    "def printinfo(name,age=8):\n",
    "    print('Name:{0},Age:{1}'.format(name, age))\n",
    "\n",
    "printinfo('小马')\n",
    "printinfo('小马', 10)"
   ]
  },
  {
   "cell_type": "code",
   "execution_count": 9,
   "metadata": {},
   "outputs": [
    {
     "name": "stdout",
     "output_type": "stream",
     "text": [
      "Name:小马,Age:9\n"
     ]
    }
   ],
   "source": [
    "def printinfo(name,age):\n",
    "    print('Name:{0},Age:{1}'.format(name, age))\n",
    "\n",
    "printinfo(age=9,name='小马')"
   ]
  },
  {
   "cell_type": "code",
   "execution_count": 12,
   "metadata": {},
   "outputs": [
    {
     "name": "stdout",
     "output_type": "stream",
     "text": [
      "10\n",
      "70\n",
      "80\n",
      "90\n"
     ]
    }
   ],
   "source": [
    "def printinfo(arg1, *args):\n",
    "    print(arg1)\n",
    "    for var in args:\n",
    "        print(var)\n",
    "        \n",
    "printinfo(10)\n",
    "printinfo(70,80,90)"
   ]
  },
  {
   "cell_type": "code",
   "execution_count": 13,
   "metadata": {},
   "outputs": [
    {
     "name": "stdout",
     "output_type": "stream",
     "text": [
      "70\n",
      "(60, 50)\n",
      "{}\n",
      "70\n",
      "(60, 50)\n",
      "{'a': 1, 'b': 2}\n"
     ]
    }
   ],
   "source": [
    "def printinfo(arg1, *args, **kwargs):\n",
    "    print(arg1)\n",
    "    print(args)\n",
    "    print(kwargs)\n",
    "    \n",
    "printinfo(70,60,50)\n",
    "printinfo(70,60,50,a=1,b=2)"
   ]
  },
  {
   "cell_type": "code",
   "execution_count": null,
   "metadata": {},
   "outputs": [],
   "source": [
    "可变参数和关键字参数的异同点：\n",
    "可变参数允许传入0个到任意个参数，它们在函数调用时自动组装为一个元祖（tuple）。\n",
    "关键字参数允许传入0个到任意个参数，它们在函数内部自动组装为一个字段（dict）。"
   ]
  },
  {
   "cell_type": "code",
   "execution_count": 15,
   "metadata": {},
   "outputs": [
    {
     "name": "stdout",
     "output_type": "stream",
     "text": [
      "70\n",
      "10\n",
      "{'a': 1, 'b': 2}\n"
     ]
    },
    {
     "ename": "TypeError",
     "evalue": "printinfo() takes 1 positional argument but 2 were given",
     "output_type": "error",
     "traceback": [
      "\u001b[1;31m---------------------------------------------------------------------------\u001b[0m",
      "\u001b[1;31mTypeError\u001b[0m                                 Traceback (most recent call last)",
      "\u001b[1;32m<ipython-input-15-156cc5692b95>\u001b[0m in \u001b[0;36m<module>\u001b[1;34m\u001b[0m\n\u001b[0;32m      6\u001b[0m \u001b[0mprintinfo\u001b[0m\u001b[1;33m(\u001b[0m\u001b[1;36m70\u001b[0m\u001b[1;33m,\u001b[0m \u001b[0mnkw\u001b[0m\u001b[1;33m=\u001b[0m\u001b[1;36m10\u001b[0m\u001b[1;33m,\u001b[0m \u001b[0ma\u001b[0m\u001b[1;33m=\u001b[0m\u001b[1;36m1\u001b[0m\u001b[1;33m,\u001b[0m \u001b[0mb\u001b[0m\u001b[1;33m=\u001b[0m\u001b[1;36m2\u001b[0m\u001b[1;33m)\u001b[0m\u001b[1;33m\u001b[0m\u001b[1;33m\u001b[0m\u001b[0m\n\u001b[0;32m      7\u001b[0m \u001b[1;33m\u001b[0m\u001b[0m\n\u001b[1;32m----> 8\u001b[1;33m \u001b[0mprintinfo\u001b[0m\u001b[1;33m(\u001b[0m\u001b[1;36m70\u001b[0m\u001b[1;33m,\u001b[0m \u001b[1;36m10\u001b[0m\u001b[1;33m,\u001b[0m \u001b[0ma\u001b[0m\u001b[1;33m=\u001b[0m\u001b[1;36m1\u001b[0m\u001b[1;33m,\u001b[0m \u001b[0mb\u001b[0m\u001b[1;33m=\u001b[0m\u001b[1;36m2\u001b[0m\u001b[1;33m)\u001b[0m\u001b[1;33m\u001b[0m\u001b[1;33m\u001b[0m\u001b[0m\n\u001b[0m",
      "\u001b[1;31mTypeError\u001b[0m: printinfo() takes 1 positional argument but 2 were given"
     ]
    }
   ],
   "source": [
    "def printinfo(arg1, *, nkw, **kwargs):\n",
    "    print(arg1)\n",
    "    print(nkw)\n",
    "    print(kwargs)\n",
    "\n",
    "printinfo(70, nkw=10, a=1, b=2)\n",
    "\n",
    "printinfo(70, 10, a=1, b=2)"
   ]
  },
  {
   "cell_type": "code",
   "execution_count": null,
   "metadata": {},
   "outputs": [],
   "source": [
    "没有写参数名nwk，因此 10 被当成「位置参数」，而原函数只有 1 个位置函数，现在调用了 2 个，因此程序会报错。"
   ]
  },
  {
   "cell_type": "markdown",
   "metadata": {},
   "source": [
    "## 函数的返回值"
   ]
  },
  {
   "cell_type": "code",
   "execution_count": 16,
   "metadata": {},
   "outputs": [
    {
     "name": "stdout",
     "output_type": "stream",
     "text": [
      "3\n",
      "[1, 2, 3, 4, 5, 6]\n"
     ]
    }
   ],
   "source": [
    "def add(a, b):\n",
    "    return a + b\n",
    "\n",
    "print(add(1, 2))\n",
    "print(add([1, 2, 3], [4, 5, 6]))"
   ]
  },
  {
   "cell_type": "code",
   "execution_count": 18,
   "metadata": {},
   "outputs": [
    {
     "name": "stdout",
     "output_type": "stream",
     "text": [
      "[1, '小马', 3.14]\n"
     ]
    }
   ],
   "source": [
    "def back():\n",
    "    return [1, '小马', 3.14]\n",
    "print(back())"
   ]
  },
  {
   "cell_type": "code",
   "execution_count": 19,
   "metadata": {},
   "outputs": [
    {
     "name": "stdout",
     "output_type": "stream",
     "text": [
      "(1, '小马', 3.14)\n"
     ]
    }
   ],
   "source": [
    "def back():\n",
    "    return 1, '小马', 3.14\n",
    "print(back())"
   ]
  },
  {
   "cell_type": "code",
   "execution_count": 20,
   "metadata": {},
   "outputs": [
    {
     "name": "stdout",
     "output_type": "stream",
     "text": [
      "hello\n",
      "None\n",
      "<class 'NoneType'>\n"
     ]
    }
   ],
   "source": [
    "def printme(str):\n",
    "    print(str)\n",
    "    \n",
    "temp = printme('hello')\n",
    "print(temp)\n",
    "print(type(temp))"
   ]
  },
  {
   "cell_type": "markdown",
   "metadata": {},
   "source": [
    "## 变量作用域"
   ]
  },
  {
   "cell_type": "code",
   "execution_count": 22,
   "metadata": {},
   "outputs": [
    {
     "name": "stdout",
     "output_type": "stream",
     "text": [
      "请输入原价：98\n",
      "请输入折扣率：0.9\n",
      "打折后价格是：88.20\n"
     ]
    }
   ],
   "source": [
    "def discount(price,rate):\n",
    "    final_price = price * rate\n",
    "    return final_price\n",
    "\n",
    "old_price = float(input('请输入原价：'))\n",
    "rate = float(input('请输入折扣率：'))\n",
    "new_price = discount(old_price, rate)\n",
    "print('打折后价格是：%.2f' % new_price)"
   ]
  },
  {
   "cell_type": "code",
   "execution_count": null,
   "metadata": {},
   "outputs": [],
   "source": [
    "当内部作用域想修改外部作用域的变量时，就要用到global和nonlocal关键字了。"
   ]
  },
  {
   "cell_type": "code",
   "execution_count": 24,
   "metadata": {},
   "outputs": [
    {
     "name": "stdout",
     "output_type": "stream",
     "text": [
      "1\n",
      "123\n",
      "123\n"
     ]
    }
   ],
   "source": [
    "num = 1\n",
    "\n",
    "def fun1():\n",
    "    global num\n",
    "    print(num)\n",
    "    num = 123\n",
    "    print(num)\n",
    "fun1()\n",
    "print(num)"
   ]
  },
  {
   "cell_type": "markdown",
   "metadata": {},
   "source": [
    "### 内嵌函数"
   ]
  },
  {
   "cell_type": "code",
   "execution_count": 26,
   "metadata": {},
   "outputs": [
    {
     "name": "stdout",
     "output_type": "stream",
     "text": [
      "outer函数在这被调用\n",
      "inner函数在这被调用\n"
     ]
    }
   ],
   "source": [
    "def outer():\n",
    "    print('outer函数在这被调用')\n",
    "    \n",
    "    def inner():\n",
    "        print('inner函数在这被调用')\n",
    "        \n",
    "    inner()\n",
    "outer()"
   ]
  },
  {
   "cell_type": "markdown",
   "metadata": {},
   "source": [
    "### 闭包"
   ]
  },
  {
   "cell_type": "code",
   "execution_count": null,
   "metadata": {},
   "outputs": [],
   "source": [
    "是函数式编程的一个重要的语法结构，是一种特殊的内嵌函数。\n",
    "如果在一个内部函数里对外层非全局作用域的变量进行引用，那么内部函数就被认为是闭包。\n",
    "通过闭包可以访问外层非全局作用域的变量，这个作用域称为 闭包作用域。"
   ]
  },
  {
   "cell_type": "code",
   "execution_count": 27,
   "metadata": {},
   "outputs": [
    {
     "name": "stdout",
     "output_type": "stream",
     "text": [
      "<class 'function'>\n",
      "40\n"
     ]
    }
   ],
   "source": [
    "def funX(x):\n",
    "    def funY(y):\n",
    "        return x * y\n",
    "    return funY\n",
    "\n",
    "i = funX(8)\n",
    "print(type(i))\n",
    "print(i(5))"
   ]
  },
  {
   "cell_type": "code",
   "execution_count": 29,
   "metadata": {},
   "outputs": [
    {
     "name": "stdout",
     "output_type": "stream",
     "text": [
      "3\n",
      "2\n",
      "0\n"
     ]
    }
   ],
   "source": [
    "# 闭包的返回值通常是函数\n",
    "def make_counter(init):\n",
    "    counter = [init]\n",
    "    def inc(): counter[0] += 1\n",
    "    def dec(): counter[0] -= 1\n",
    "    def get(): return counter[0]\n",
    "    def reset(): counter[0] = init\n",
    "    return inc, dec, get, reset\n",
    "\n",
    "inc, dec, get, reset = make_counter(0)\n",
    "inc()\n",
    "inc()\n",
    "inc()\n",
    "print(get())\n",
    "dec()\n",
    "print(get())\n",
    "reset()\n",
    "print(get())"
   ]
  },
  {
   "cell_type": "code",
   "execution_count": 30,
   "metadata": {},
   "outputs": [
    {
     "name": "stdout",
     "output_type": "stream",
     "text": [
      "100\n",
      "100\n"
     ]
    }
   ],
   "source": [
    "# 如果要修改闭包作用域中的变量则需要 nonlocal 关键字\n",
    "def outer():\n",
    "    num = 10\n",
    "    \n",
    "    def inner():\n",
    "        nonlocal num\n",
    "        num = 100\n",
    "        print(num)\n",
    "        \n",
    "    inner()\n",
    "    print(num)\n",
    "\n",
    "outer()"
   ]
  },
  {
   "cell_type": "markdown",
   "metadata": {},
   "source": [
    "### 递归"
   ]
  },
  {
   "cell_type": "code",
   "execution_count": 33,
   "metadata": {},
   "outputs": [
    {
     "name": "stdout",
     "output_type": "stream",
     "text": [
      "120\n",
      "120\n"
     ]
    }
   ],
   "source": [
    "# 利用循环\n",
    "n = 5\n",
    "for k in range(1,5):\n",
    "    n = n * k\n",
    "print(n)\n",
    "\n",
    "def factorial(n):\n",
    "    if n == 1:\n",
    "        return 1\n",
    "    return n * factorial(n - 1)\n",
    "\n",
    "print(factorial(5))"
   ]
  },
  {
   "cell_type": "code",
   "execution_count": 37,
   "metadata": {},
   "outputs": [
    {
     "name": "stdout",
     "output_type": "stream",
     "text": [
      "[0, 1, 1, 2, 3, 5, 8, 13, 21, 34, 55]\n",
      "[0, 1, 1, 2, 3, 5, 8, 13, 21, 34, 55]\n"
     ]
    }
   ],
   "source": [
    "# 斐波那契数列 f(n)=f(n-1)+f(n-2),f(0)=0,f(1)=1\n",
    "\n",
    "# 利用循环\n",
    "i = 0\n",
    "j = 1\n",
    "lst = list([i, j])\n",
    "for k in range(2, 11):\n",
    "    k = i + j\n",
    "    lst.append(k)\n",
    "    i = j\n",
    "    j = k\n",
    "print(lst)\n",
    "\n",
    "\n",
    "# 利用递归\n",
    "def recur_fibo(n):\n",
    "    if n <= 1:\n",
    "        return n\n",
    "    return recur_fibo(n - 1) + recur_fibo(n - 2)\n",
    "lst = list()\n",
    "for k in range(11):\n",
    "    lst.append(recur_fibo(k))\n",
    "print(lst)"
   ]
  },
  {
   "cell_type": "code",
   "execution_count": null,
   "metadata": {},
   "outputs": [],
   "source": [
    "# 设置递归的层数，python默认递归层数为100\n",
    "import sys\n",
    "sys.setrecursionlimit(1000)"
   ]
  },
  {
   "cell_type": "markdown",
   "metadata": {},
   "source": [
    "# Lambda表达式"
   ]
  },
  {
   "cell_type": "markdown",
   "metadata": {},
   "source": [
    "## 匿名函数的定义"
   ]
  },
  {
   "cell_type": "code",
   "execution_count": null,
   "metadata": {},
   "outputs": [],
   "source": [
    "expression 中没有 return 语句，因为 lambda 不需要它来返回，表达式本身结果就是返回值。\n",
    "匿名函数拥有自己的命名空间，且不能访问自己参数列表之外或全局命名空间里的参数。"
   ]
  },
  {
   "cell_type": "code",
   "execution_count": 44,
   "metadata": {},
   "outputs": [
    {
     "name": "stdout",
     "output_type": "stream",
     "text": [
      "<function sqr at 0x0000019BEC1E9CA0>\n",
      "[0, 1, 4, 9, 16, 25, 36, 49, 64, 81]\n",
      "<function <lambda> at 0x0000019BEC1E9820>\n",
      "[0, 1, 4, 9, 16, 25, 36, 49, 64, 81]\n",
      "30\n",
      "15\n"
     ]
    }
   ],
   "source": [
    "def sqr(x):\n",
    "    return x ** 2\n",
    "\n",
    "print(sqr)\n",
    "\n",
    "y = [sqr(x) for x in range(10)]\n",
    "print(y)\n",
    "\n",
    "\n",
    "l_sqr = lambda x: x ** 2\n",
    "print(l_sqr)\n",
    "\n",
    "y = [l_sqr(x) for x in range(10)]\n",
    "print(y)\n",
    "\n",
    "\n",
    "sumary = lambda arg1, arg2: arg1 + arg2\n",
    "print(sumary(10, 20))\n",
    "\n",
    "func = lambda *args: sum(args)\n",
    "print(func(1, 2, 3, 4, 5))"
   ]
  },
  {
   "cell_type": "markdown",
   "metadata": {},
   "source": [
    "## 匿名函数的应用"
   ]
  },
  {
   "cell_type": "code",
   "execution_count": null,
   "metadata": {},
   "outputs": [],
   "source": [
    "函数式编程 是指代码中每一块都是不可变的，都由纯函数的形式组成。\n",
    "这里的纯函数，是指函数本身相互独立、互不影响，对于相同的输入，总会有相同的输出，没有任何副作用。"
   ]
  },
  {
   "cell_type": "code",
   "execution_count": 45,
   "metadata": {},
   "outputs": [
    {
     "name": "stdout",
     "output_type": "stream",
     "text": [
      "[11, 12, 13]\n"
     ]
    }
   ],
   "source": [
    "# 非函数式编程\n",
    "def f(x):\n",
    "    for i in range(0, len(x)):\n",
    "        x[i] += 10\n",
    "    return x\n",
    "\n",
    "x = [1, 2, 3]\n",
    "f(x)\n",
    "print(x)"
   ]
  },
  {
   "cell_type": "code",
   "execution_count": 46,
   "metadata": {},
   "outputs": [
    {
     "name": "stdout",
     "output_type": "stream",
     "text": [
      "[1, 2, 3]\n"
     ]
    }
   ],
   "source": [
    "# 函数式编程\n",
    "def f(x):\n",
    "    y = []\n",
    "    for item in x:\n",
    "        y.append(item + 10)\n",
    "    return y\n",
    "\n",
    "x = [1, 2, 3]\n",
    "f(x)\n",
    "print(x)"
   ]
  },
  {
   "cell_type": "code",
   "execution_count": null,
   "metadata": {},
   "outputs": [],
   "source": [
    "匿名函数 常常应用于函数式编程的高阶函数 (high-order function)中，主要有两种形式：\n",
    "1. 参数是函数 (filter, map)\n",
    "2. 返回值是函数 (closure)"
   ]
  },
  {
   "cell_type": "code",
   "execution_count": 48,
   "metadata": {},
   "outputs": [
    {
     "name": "stdout",
     "output_type": "stream",
     "text": [
      "[1, 3, 5, 7, 9]\n"
     ]
    }
   ],
   "source": [
    "# 在 filter和map函数中的应用：\n",
    "# filter(function, iterable) 过滤序列，过滤掉不符合条件的元素，返回一个迭代器对象，\n",
    "# 如果要转换为列表，可以使用 list() 来转换。\n",
    "odd = lambda x: x % 2 == 1\n",
    "templist = filter(odd, [1, 2, 3, 4, 5, 6, 7, 8, 9])\n",
    "print(list(templist))"
   ]
  },
  {
   "cell_type": "code",
   "execution_count": 50,
   "metadata": {},
   "outputs": [
    {
     "name": "stdout",
     "output_type": "stream",
     "text": [
      "[1, 4, 9, 16, 25]\n",
      "[3, 7, 11, 15, 19]\n"
     ]
    }
   ],
   "source": [
    "# map(function, *iterables) 根据提供的函数对指定序列做映射。\n",
    "m1 = map(lambda x: x ** 2, [1, 2, 3, 4, 5])\n",
    "print(list(m1))\n",
    "\n",
    "m2 = map(lambda x, y: x + y, [1, 3, 5, 7, 9], [2, 4, 6, 8, 10])\n",
    "print(list(m2))"
   ]
  },
  {
   "cell_type": "code",
   "execution_count": 53,
   "metadata": {},
   "outputs": [
    {
     "name": "stdout",
     "output_type": "stream",
     "text": [
      "15\n",
      "5\n",
      "3.0\n"
     ]
    }
   ],
   "source": [
    "# 自定义高阶函数\n",
    "def apply_to_list(fun, some_list):\n",
    "    return fun(some_list)\n",
    "\n",
    "lst = [1, 2, 3, 4, 5]\n",
    "print(apply_to_list(sum, lst))\n",
    "\n",
    "lst = [1, 2, 3, 4, 5]\n",
    "print(apply_to_list(len, lst))\n",
    "\n",
    "print(apply_to_list(lambda x: sum(x) / len(x), lst))"
   ]
  },
  {
   "cell_type": "markdown",
   "metadata": {},
   "source": [
    "# 类与对象"
   ]
  },
  {
   "cell_type": "markdown",
   "metadata": {},
   "source": [
    "## 对象 = 属性 + 方法"
   ]
  },
  {
   "cell_type": "code",
   "execution_count": null,
   "metadata": {},
   "outputs": [],
   "source": [
    "对象是类的实例。换句话说，类主要定义对象的结构，然后我们以类为模板创建对象。\n",
    "类不但包含方法定义，而且还包含所有实例共享的数据。\n",
    "封装：信息隐蔽技术\n",
    "继承：子类自动共享父类之间数据和方法的机制\n",
    "多态：不同对象对同一方法响应不同的行动"
   ]
  },
  {
   "cell_type": "code",
   "execution_count": 54,
   "metadata": {},
   "outputs": [
    {
     "name": "stdout",
     "output_type": "stream",
     "text": [
      "<__main__.Turtle object at 0x0000019BEC0E2490>\n",
      "<class '__main__.Turtle'>\n",
      "<class '__main__.Turtle'>\n",
      "Turtle\n",
      "乌龟爬\n",
      "乌龟跑\n",
      "乌龟咬\n",
      "<class 'type'>\n"
     ]
    }
   ],
   "source": [
    "class Turtle: # Python中的类名以大写字母开头\n",
    "    # 属性\n",
    "    color = 'green'\n",
    "    weight = 10\n",
    "    legs = 4\n",
    "    shell = True\n",
    "    mouth = '大嘴'\n",
    "    \n",
    "    # 方法\n",
    "    def climb(self):\n",
    "        print('乌龟爬')\n",
    "    def run(self):\n",
    "        print('乌龟跑')\n",
    "    def bite(self):\n",
    "        print('乌龟咬')\n",
    "    def eat(self):\n",
    "        print('乌龟吃')\n",
    "    def sleep(self):\n",
    "        print('乌龟睡觉')\n",
    "        \n",
    "tt = Turtle()\n",
    "print(tt)\n",
    "print(type(tt))\n",
    "print(tt.__class__)\n",
    "print(tt.__class__.__name__)\n",
    "\n",
    "tt.climb()\n",
    "tt.run()\n",
    "tt.bite()\n",
    "\n",
    "print(type(Turtle))"
   ]
  },
  {
   "cell_type": "code",
   "execution_count": 55,
   "metadata": {},
   "outputs": [
    {
     "name": "stdout",
     "output_type": "stream",
     "text": [
      "[1, 2, 5, 7, 8, 9]\n"
     ]
    }
   ],
   "source": [
    "# 继承的例子\n",
    "class MyList(list):\n",
    "    pass\n",
    "\n",
    "lst = MyList([1, 5, 2, 7, 8])\n",
    "lst.append(9)\n",
    "lst.sort()\n",
    "print(lst)"
   ]
  },
  {
   "cell_type": "code",
   "execution_count": 56,
   "metadata": {},
   "outputs": [
    {
     "name": "stdout",
     "output_type": "stream",
     "text": [
      "pig is walking\n"
     ]
    }
   ],
   "source": [
    "# 多态的例子\n",
    "class Animal:\n",
    "    def run(self):\n",
    "        raise AttributeError('子类必须实现这个方法')\n",
    "\n",
    "class People(Animal):\n",
    "    def run(self):\n",
    "        print('人正在走')\n",
    "        \n",
    "class Pig(Animal):\n",
    "    def run(self):\n",
    "        print('pig is walking')\n",
    "        \n",
    "class Dog(Animal):\n",
    "    def run(self):\n",
    "        print('dog is running')\n",
    "        \n",
    "def func(animal):\n",
    "    animal.run()\n",
    "    \n",
    "func(Pig())"
   ]
  },
  {
   "cell_type": "markdown",
   "metadata": {},
   "source": [
    "## self"
   ]
  },
  {
   "cell_type": "code",
   "execution_count": null,
   "metadata": {},
   "outputs": [],
   "source": [
    "Python的self相当于C++的this指针\n",
    "类的方法与普通的函数只有一个特别的区别 —— 它们必须有一个额外的第一个参数名称（对应于该实例，即该对象本身），\n",
    "按照惯例它的名称是 self。在调用方法时，我们无需明确提供与参数 self 相对应的参数。"
   ]
  },
  {
   "cell_type": "code",
   "execution_count": 57,
   "metadata": {},
   "outputs": [
    {
     "name": "stdout",
     "output_type": "stream",
     "text": [
      "<__main__.Test object at 0x0000019BEC1D7A90>\n",
      "<class '__main__.Test'>\n"
     ]
    }
   ],
   "source": [
    "class Test:\n",
    "    def prt(self):\n",
    "        print(self)\n",
    "        print(self.__class__)\n",
    "        \n",
    "t = Test()\n",
    "t.prt()"
   ]
  },
  {
   "cell_type": "code",
   "execution_count": 58,
   "metadata": {},
   "outputs": [
    {
     "name": "stdout",
     "output_type": "stream",
     "text": [
      "我叫球A，谁踢我\n",
      "我叫球B，谁踢我\n"
     ]
    }
   ],
   "source": [
    "class Ball:\n",
    "    def setName(self, name):\n",
    "        self.name = name\n",
    "        \n",
    "    def kick(self):\n",
    "        print(\"我叫%s，谁踢我\" % self.name)\n",
    "        \n",
    "a = Ball()\n",
    "a.setName(\"球A\")\n",
    "b = Ball()\n",
    "b.setName(\"球B\")\n",
    "c = Ball()\n",
    "c.setName(\"球C\")\n",
    "a.kick()\n",
    "b.kick()"
   ]
  },
  {
   "cell_type": "markdown",
   "metadata": {},
   "source": [
    "## Python的魔法方法"
   ]
  },
  {
   "cell_type": "code",
   "execution_count": null,
   "metadata": {},
   "outputs": [],
   "source": [
    "类有一个名为__init__(self[, param1, param2...])的魔法方法，该方法在类实例化时会自动调用。"
   ]
  },
  {
   "cell_type": "code",
   "execution_count": 61,
   "metadata": {},
   "outputs": [
    {
     "name": "stdout",
     "output_type": "stream",
     "text": [
      "我叫球A，谁踢我\n",
      "我叫球B，谁踢我\n"
     ]
    }
   ],
   "source": [
    "class Ball:\n",
    "    def __init__(self, name):\n",
    "        self.name = name\n",
    "        \n",
    "    def kick(self):\n",
    "        print(\"我叫%s，谁踢我\" % self.name)\n",
    "        \n",
    "a = Ball(\"球A\")\n",
    "b = Ball(\"球B\")\n",
    "a.kick()\n",
    "b.kick()"
   ]
  },
  {
   "cell_type": "markdown",
   "metadata": {},
   "source": [
    "## 共有和私有"
   ]
  },
  {
   "cell_type": "code",
   "execution_count": null,
   "metadata": {},
   "outputs": [],
   "source": [
    "Python 中定义私有变量只需要在变量名或函数名前加上“__”两个下划线，那么这个函数或变量就会为私有的了。"
   ]
  },
  {
   "cell_type": "code",
   "execution_count": 64,
   "metadata": {},
   "outputs": [
    {
     "name": "stdout",
     "output_type": "stream",
     "text": [
      "1\n",
      "2\n",
      "2\n",
      "2\n"
     ]
    },
    {
     "ename": "AttributeError",
     "evalue": "'JustCounter' object has no attribute '__secretCount'",
     "output_type": "error",
     "traceback": [
      "\u001b[1;31m---------------------------------------------------------------------------\u001b[0m",
      "\u001b[1;31mAttributeError\u001b[0m                            Traceback (most recent call last)",
      "\u001b[1;32m<ipython-input-64-e501fe883c94>\u001b[0m in \u001b[0;36m<module>\u001b[1;34m\u001b[0m\n\u001b[0;32m     16\u001b[0m \u001b[1;31m# Python的私有为伪私有\u001b[0m\u001b[1;33m\u001b[0m\u001b[1;33m\u001b[0m\u001b[1;33m\u001b[0m\u001b[0m\n\u001b[0;32m     17\u001b[0m \u001b[0mprint\u001b[0m\u001b[1;33m(\u001b[0m\u001b[0mcounter\u001b[0m\u001b[1;33m.\u001b[0m\u001b[0m_JustCounter__secretCount\u001b[0m\u001b[1;33m)\u001b[0m\u001b[1;33m\u001b[0m\u001b[1;33m\u001b[0m\u001b[0m\n\u001b[1;32m---> 18\u001b[1;33m \u001b[0mprint\u001b[0m\u001b[1;33m(\u001b[0m\u001b[0mcounter\u001b[0m\u001b[1;33m.\u001b[0m\u001b[0m__secretCount\u001b[0m\u001b[1;33m)\u001b[0m\u001b[1;33m\u001b[0m\u001b[1;33m\u001b[0m\u001b[0m\n\u001b[0m",
      "\u001b[1;31mAttributeError\u001b[0m: 'JustCounter' object has no attribute '__secretCount'"
     ]
    }
   ],
   "source": [
    "# 类的私有实行实例\n",
    "class JustCounter:\n",
    "    __secretCount = 0 # 私有属性\n",
    "    publicCount = 0 # 公开属性\n",
    "    \n",
    "    def count(self):\n",
    "        self.__secretCount += 1\n",
    "        self.publicCount += 1\n",
    "        print(self.__secretCount)\n",
    "        \n",
    "counter  = JustCounter()\n",
    "counter.count()\n",
    "counter.count()\n",
    "print(counter.publicCount)\n",
    "\n",
    "# Python的私有为伪私有\n",
    "print(counter._JustCounter__secretCount)\n",
    "print(counter.__secretCount)"
   ]
  },
  {
   "cell_type": "code",
   "execution_count": 67,
   "metadata": {},
   "outputs": [
    {
     "name": "stdout",
     "output_type": "stream",
     "text": [
      "name : 老马\n",
      "url : https://blog.csdn.net/LSGO_MYP\n",
      "这是公共方法\n",
      "这是私有方法\n"
     ]
    },
    {
     "ename": "AttributeError",
     "evalue": "'Site' object has no attribute '__foo'",
     "output_type": "error",
     "traceback": [
      "\u001b[1;31m---------------------------------------------------------------------------\u001b[0m",
      "\u001b[1;31mAttributeError\u001b[0m                            Traceback (most recent call last)",
      "\u001b[1;32m<ipython-input-67-0d42c2eab54b>\u001b[0m in \u001b[0;36m<module>\u001b[1;34m\u001b[0m\n\u001b[0;32m     21\u001b[0m \u001b[0mx\u001b[0m\u001b[1;33m.\u001b[0m\u001b[0mfoo\u001b[0m\u001b[1;33m(\u001b[0m\u001b[1;33m)\u001b[0m\u001b[1;33m\u001b[0m\u001b[1;33m\u001b[0m\u001b[0m\n\u001b[0;32m     22\u001b[0m \u001b[1;33m\u001b[0m\u001b[0m\n\u001b[1;32m---> 23\u001b[1;33m \u001b[0mx\u001b[0m\u001b[1;33m.\u001b[0m\u001b[0m__foo\u001b[0m\u001b[1;33m(\u001b[0m\u001b[1;33m)\u001b[0m\u001b[1;33m\u001b[0m\u001b[1;33m\u001b[0m\u001b[0m\n\u001b[0m",
      "\u001b[1;31mAttributeError\u001b[0m: 'Site' object has no attribute '__foo'"
     ]
    }
   ],
   "source": [
    "# 类的私有方法实例\n",
    "class Site:\n",
    "    def __init__(self, name, url):\n",
    "        self.name = name  # public\n",
    "        self.__url = url  # private\n",
    "        \n",
    "    def who(self):\n",
    "        print('name :', self.name)\n",
    "        print('url :', self.__url)\n",
    "        \n",
    "    def __foo(self):  # 私有方法\n",
    "        print('这是私有方法')\n",
    "        \n",
    "    def foo(self):   # 公共方法\n",
    "        print('这是公共方法')\n",
    "        self.__foo()\n",
    "        \n",
    "x = Site('老马', 'https://blog.csdn.net/LSGO_MYP')\n",
    "x.who()\n",
    "\n",
    "x.foo()\n",
    "\n",
    "x.__foo()"
   ]
  },
  {
   "cell_type": "markdown",
   "metadata": {},
   "source": [
    "## 继承"
   ]
  },
  {
   "cell_type": "code",
   "execution_count": null,
   "metadata": {},
   "outputs": [],
   "source": [
    "如果子类中定义与父类同名的方法或属性，则会自动覆盖父类对应的方法或属性。\n",
    "注：Python虽然支持多继承，但我们一般不使用多继承，因为容易引起混乱。"
   ]
  },
  {
   "cell_type": "code",
   "execution_count": 72,
   "metadata": {},
   "outputs": [
    {
     "name": "stdout",
     "output_type": "stream",
     "text": [
      "小马 说：我 10 岁了，我在读 3 年级\n"
     ]
    }
   ],
   "source": [
    "# 类定义\n",
    "class People:\n",
    "    # 定义基本属性\n",
    "    name = ''\n",
    "    age = 0\n",
    "    # 定义私有属性，私有属性在类外部无法直接进行访问\n",
    "    __weight = 0\n",
    "    \n",
    "    def __init__(self, n, a, w):\n",
    "        self.name = n\n",
    "        self.age = a\n",
    "        self.__weight = w\n",
    "    \n",
    "    def speak(self):\n",
    "        print(\"%s 说：我 %d 岁。\" % (self.name, self.age))\n",
    "        \n",
    "# 单继承示例\n",
    "class student(People):\n",
    "    grade = ''\n",
    "    \n",
    "    def __init__(self, n, a, w, g):\n",
    "        # 调用父类的构造函数\n",
    "        People.__init__(self, n, a, w)\n",
    "        self.grade = g\n",
    "        \n",
    "        # 覆写父类的方法\n",
    "    def speak(self):\n",
    "        print(\"%s 说：我 %d 岁了，我在读 %d 年级\" % (self.name, self.age, self.grade))\n",
    "            \n",
    "s = student('小马', 10, 60, 3)\n",
    "s.speak()"
   ]
  },
  {
   "cell_type": "code",
   "execution_count": 74,
   "metadata": {},
   "outputs": [
    {
     "name": "stdout",
     "output_type": "stream",
     "text": [
      "我的位置 -1 5\n",
      "吃饱了\n"
     ]
    },
    {
     "ename": "AttributeError",
     "evalue": "'Shark' object has no attribute 'x'",
     "output_type": "error",
     "traceback": [
      "\u001b[1;31m---------------------------------------------------------------------------\u001b[0m",
      "\u001b[1;31mAttributeError\u001b[0m                            Traceback (most recent call last)",
      "\u001b[1;32m<ipython-input-74-008edddeb51a>\u001b[0m in \u001b[0;36m<module>\u001b[1;34m\u001b[0m\n\u001b[0;32m     35\u001b[0m \u001b[0ms\u001b[0m \u001b[1;33m=\u001b[0m \u001b[0mShark\u001b[0m\u001b[1;33m(\u001b[0m\u001b[1;33m)\u001b[0m\u001b[1;33m\u001b[0m\u001b[1;33m\u001b[0m\u001b[0m\n\u001b[0;32m     36\u001b[0m \u001b[0ms\u001b[0m\u001b[1;33m.\u001b[0m\u001b[0meat\u001b[0m\u001b[1;33m(\u001b[0m\u001b[1;33m)\u001b[0m\u001b[1;33m\u001b[0m\u001b[1;33m\u001b[0m\u001b[0m\n\u001b[1;32m---> 37\u001b[1;33m \u001b[0ms\u001b[0m\u001b[1;33m.\u001b[0m\u001b[0mmove\u001b[0m\u001b[1;33m(\u001b[0m\u001b[1;33m)\u001b[0m\u001b[1;33m\u001b[0m\u001b[1;33m\u001b[0m\u001b[0m\n\u001b[0m",
      "\u001b[1;32m<ipython-input-74-008edddeb51a>\u001b[0m in \u001b[0;36mmove\u001b[1;34m(self)\u001b[0m\n\u001b[0;32m      7\u001b[0m \u001b[1;33m\u001b[0m\u001b[0m\n\u001b[0;32m      8\u001b[0m     \u001b[1;32mdef\u001b[0m \u001b[0mmove\u001b[0m\u001b[1;33m(\u001b[0m\u001b[0mself\u001b[0m\u001b[1;33m)\u001b[0m\u001b[1;33m:\u001b[0m\u001b[1;33m\u001b[0m\u001b[1;33m\u001b[0m\u001b[0m\n\u001b[1;32m----> 9\u001b[1;33m         \u001b[0mself\u001b[0m\u001b[1;33m.\u001b[0m\u001b[0mx\u001b[0m \u001b[1;33m-=\u001b[0m \u001b[1;36m1\u001b[0m\u001b[1;33m\u001b[0m\u001b[1;33m\u001b[0m\u001b[0m\n\u001b[0m\u001b[0;32m     10\u001b[0m         \u001b[0mprint\u001b[0m\u001b[1;33m(\u001b[0m\u001b[1;34m\"我的位置\"\u001b[0m\u001b[1;33m,\u001b[0m\u001b[0mself\u001b[0m\u001b[1;33m.\u001b[0m\u001b[0mx\u001b[0m\u001b[1;33m,\u001b[0m\u001b[0mself\u001b[0m\u001b[1;33m.\u001b[0m\u001b[0my\u001b[0m\u001b[1;33m)\u001b[0m\u001b[1;33m\u001b[0m\u001b[1;33m\u001b[0m\u001b[0m\n\u001b[0;32m     11\u001b[0m \u001b[1;33m\u001b[0m\u001b[0m\n",
      "\u001b[1;31mAttributeError\u001b[0m: 'Shark' object has no attribute 'x'"
     ]
    }
   ],
   "source": [
    "import random\n",
    "\n",
    "class Fish:\n",
    "    def __init__(self):\n",
    "        self.x = random.randint(0,10)\n",
    "        self.y = random.randint(0,10)\n",
    "        \n",
    "    def move(self):\n",
    "        self.x -= 1\n",
    "        print(\"我的位置\",self.x,self.y)\n",
    "        \n",
    "class GoldFish(Fish):\n",
    "    pass\n",
    "\n",
    "class Carp(Fish):\n",
    "    pass\n",
    "\n",
    "class Salmon(Fish):\n",
    "    pass\n",
    "\n",
    "class Shark(Fish):\n",
    "    def __init__(self):\n",
    "        self.hungry = True\n",
    "        \n",
    "    def eat(self):\n",
    "        if self.hungry:\n",
    "            print(\"吃饱了\")\n",
    "            self.hungry = False\n",
    "        else:\n",
    "            print(\"太撑了\")\n",
    "            self.hungry = True\n",
    "            \n",
    "g = GoldFish()\n",
    "g.move()\n",
    "s = Shark()\n",
    "s.eat()\n",
    "s.move()"
   ]
  },
  {
   "cell_type": "code",
   "execution_count": 75,
   "metadata": {},
   "outputs": [],
   "source": [
    "# 解决该问题可以用以下两种方式：\n",
    "# 1. 调用未绑定的父类方法Fish.__init__(self)\n",
    "class Shark(Fish):\n",
    "    def __init__(self):\n",
    "        Fish.__init__(self)\n",
    "        self.hungry = True\n",
    "        \n",
    "    def eat(self):\n",
    "        if self.hungry:\n",
    "            print(\"吃饱了\")\n",
    "            self.hungry = False\n",
    "        else:\n",
    "            print(\"吃不下了\")\n",
    "            self.hungry = True"
   ]
  },
  {
   "cell_type": "code",
   "execution_count": 76,
   "metadata": {},
   "outputs": [],
   "source": [
    "# 2. 使用super函数super().__init__()\n",
    "class Shark(Fish):\n",
    "    def __init__(self):\n",
    "        super().__init__()\n",
    "        self.hungry = True\n",
    "        \n",
    "    def eat(self):\n",
    "        if self.hungry:\n",
    "            print(\"吃饱了\")\n",
    "            self.hungry = False\n",
    "        else:\n",
    "            print(\"吃不下了\")\n",
    "            self.hungry = True"
   ]
  },
  {
   "cell_type": "code",
   "execution_count": 80,
   "metadata": {},
   "outputs": [
    {
     "name": "stdout",
     "output_type": "stream",
     "text": [
      "我叫 Tim，我演讲的主题是 Python\n",
      "Tim 说：我 25 岁了，我在读 4 年级\n"
     ]
    }
   ],
   "source": [
    "# 多继承\n",
    "class People:\n",
    "    # 定义基本属性\n",
    "    name = ''\n",
    "    age = 0\n",
    "    # 定义私有属性，私有属性在类外部无法直接进行访问\n",
    "    __weight = 0\n",
    "    \n",
    "    def __init__(self, n, a, w):\n",
    "        self.name = n\n",
    "        self.age = a\n",
    "        self.__weight = w\n",
    "    \n",
    "    def speak(self):\n",
    "        print(\"%s 说：我 %d 岁。\" % (self.name, self.age))\n",
    "        \n",
    "# 单继承示例\n",
    "class Student(People):\n",
    "    grade = ''\n",
    "    \n",
    "    def __init__(self, n, a, w, g):\n",
    "        # 调用父类的构造函数\n",
    "        People.__init__(self, n, a, w)\n",
    "        self.grade = g\n",
    "        \n",
    "        # 覆写父类的方法\n",
    "    def speak(self):\n",
    "        print(\"%s 说：我 %d 岁了，我在读 %d 年级\" % (self.name, self.age, self.grade))\n",
    "\n",
    "# 另一个类，多重继承之前的准备\n",
    "class Speaker:\n",
    "    topic = ''\n",
    "    name = ''\n",
    "    \n",
    "    def __init__(self, n, t):\n",
    "        self.name = n\n",
    "        self.topic = t\n",
    "    \n",
    "    def speak(self):\n",
    "        print(\"我叫 %s，我演讲的主题是 %s\" %(self.name, self.topic))\n",
    "        \n",
    "\n",
    "        \n",
    "# 多重继承\n",
    "class Sample01(Speaker, Student):\n",
    "    a = ''\n",
    "    \n",
    "    def __init__(self, n, a, w, g, t):\n",
    "        Student.__init__(self, n, a, w, g)\n",
    "        Speaker.__init__(self, n, t)       \n",
    "# 方法同名，默认调用的是在括号中排前的父类的方法\n",
    "test = Sample01(\"Tim\", 25, 20, 4, \"Python\")\n",
    "test.speak()\n",
    "\n",
    "\n",
    "\n",
    "class Sample02(Student, Speaker):\n",
    "    a = ''\n",
    "    \n",
    "    def __init__(self, n, a, w, g, t):\n",
    "        Student.__init__(self, n, a, w, g)\n",
    "        Speaker.__init__(self, n, t)\n",
    "# 方法同名，默认调用的是在括号中排前的父类的方法\n",
    "test = Sample02(\"Tim\", 25, 20, 4, \"Python\")\n",
    "test.speak()"
   ]
  },
  {
   "cell_type": "markdown",
   "metadata": {},
   "source": [
    "## 组合"
   ]
  },
  {
   "cell_type": "code",
   "execution_count": 82,
   "metadata": {},
   "outputs": [
    {
     "name": "stdout",
     "output_type": "stream",
     "text": [
      "水池里有2只乌龟，3条小鱼\n"
     ]
    }
   ],
   "source": [
    "class Turtle:\n",
    "    def __init__(self, x):\n",
    "        self.num = x\n",
    "\n",
    "class Fish:\n",
    "    def __init__(self, x):\n",
    "        self.num = x\n",
    "        \n",
    "class Pool:\n",
    "    def __init__(self, x, y):\n",
    "        self.turtle = Turtle(x)\n",
    "        self.fish = Fish(y)\n",
    "        \n",
    "    def print_num(self):\n",
    "        print('水池里有%s只乌龟，%s条小鱼' % (self.turtle.num, self.fish.num))\n",
    "        \n",
    "p = Pool(2, 3)\n",
    "p.print_num()"
   ]
  },
  {
   "cell_type": "markdown",
   "metadata": {},
   "source": [
    "## 类、类对象和实例对象"
   ]
  },
  {
   "cell_type": "code",
   "execution_count": null,
   "metadata": {},
   "outputs": [],
   "source": [
    "类对象：创建一个类，其实是一个对象在内存开辟了一块空间，称为类对象，类对象只有一个。\n",
    "\n",
    "实例对象：通过实例化类创建的对象，称为实例对象，实例对象可以有多个。\n",
    "\n",
    "类属性：类里面方法外面定义的变量称为类属性。类属性所属类对象并且多个实例对象之间共享同一个类属性，\n",
    "说白了就是类属性所有的通过该类实例化的对象都能共享。\n",
    "\n",
    "注：属性与方法名相同，属性会覆盖方法。"
   ]
  },
  {
   "cell_type": "code",
   "execution_count": 83,
   "metadata": {},
   "outputs": [],
   "source": [
    "# 类对象\n",
    "class A(object):\n",
    "    pass"
   ]
  },
  {
   "cell_type": "code",
   "execution_count": 85,
   "metadata": {},
   "outputs": [],
   "source": [
    "# 实例对象\n",
    "class A(object):\n",
    "    pass\n",
    "\n",
    "# 实例化对象a、b、c都属于实例对象\n",
    "a = A()\n",
    "b = B()\n",
    "c = C()"
   ]
  },
  {
   "cell_type": "code",
   "execution_count": null,
   "metadata": {},
   "outputs": [],
   "source": [
    "# 类属性\n",
    "class A():\n",
    "    a = 0  # 类属性\n",
    "    def __init__(self, xx):\n",
    "        A.a = xx  # 使用类属性可以通过(类名.类属性)调用"
   ]
  },
  {
   "cell_type": "code",
   "execution_count": 89,
   "metadata": {},
   "outputs": [
    {
     "name": "stdout",
     "output_type": "stream",
     "text": [
      "类对象.类属性的值： 100\n",
      "self.类属性的值： 100\n",
      "self.类属性的值： 100\n",
      "类对象.类属性的值： 100\n",
      "self.类属性的值： 100\n",
      "self.类属性的值： 100\n",
      "类对象.类属性的值： 100\n",
      "self.类属性的值： 200\n",
      "self.类属性的值： 200\n",
      "类对象.类属性的值： 100\n",
      "self.类属性的值： 100\n",
      "self.类属性的值： 100\n"
     ]
    }
   ],
   "source": [
    "# 实例属性\n",
    "class Test(object):\n",
    "    class_attr = 100  # 类属性\n",
    "    \n",
    "    def __init__(self):\n",
    "        self.sl_attr = 100 # 实例属性\n",
    "        \n",
    "    def func(self):\n",
    "        print('类对象.类属性的值：',Test.class_attr)  # 调用类属性\n",
    "        print('self.类属性的值：',self.class_attr)  # 相当于把类属性 变成 实例属性\n",
    "        print('self.类属性的值：',self.sl_attr)  # 调用实例属性\n",
    "        \n",
    "a = Test()\n",
    "a.func()\n",
    "\n",
    "b = Test()\n",
    "b.func()\n",
    "\n",
    "a.class_attr = 200\n",
    "a.sl_attr = 200\n",
    "a.func()\n",
    "\n",
    "b.func()\n",
    "\n",
    "Test.class_attr = 300\n",
    "a.func()\n",
    "\n",
    "b.func()"
   ]
  },
  {
   "cell_type": "code",
   "execution_count": 96,
   "metadata": {},
   "outputs": [
    {
     "name": "stdout",
     "output_type": "stream",
     "text": [
      "x_man\n",
      "1\n"
     ]
    },
    {
     "data": {
      "text/plain": [
       "1"
      ]
     },
     "execution_count": 96,
     "metadata": {},
     "output_type": "execute_result"
    }
   ],
   "source": [
    "# 属性与方法名相同，属性会覆盖方法\n",
    "class A:\n",
    "    def x(self):\n",
    "        print('x_man')\n",
    "        \n",
    "aa = A()\n",
    "aa.x()\n",
    "aa.x = 1\n",
    "print(aa.x)\n",
    "aa.x"
   ]
  },
  {
   "cell_type": "markdown",
   "metadata": {},
   "source": [
    "## 绑定"
   ]
  },
  {
   "cell_type": "code",
   "execution_count": null,
   "metadata": {},
   "outputs": [],
   "source": [
    "Python 严格要求方法需要有实例才能被调用，这种限制其实就是 Python 所谓的绑定概念。\n",
    "\n",
    "Python 对象的数据属性通常存储在名为.__ dict__的字典中，我们可以直接访问__dict__，\n",
    "或利用 Python 的内置函数vars()获取.__ dict__。"
   ]
  },
  {
   "cell_type": "code",
   "execution_count": 97,
   "metadata": {},
   "outputs": [
    {
     "name": "stdout",
     "output_type": "stream",
     "text": [
      "{}\n"
     ]
    }
   ],
   "source": [
    "class CC:\n",
    "    def setXY(self, x, y):\n",
    "        self.x = x\n",
    "        self.y = y\n",
    "        \n",
    "    def printXY(self):\n",
    "        print(self.x, self.y)\n",
    "        \n",
    "dd = CC()\n",
    "print(dd.__dict__)\n",
    "\n",
    "print(vars(dd))\n",
    "\n",
    "dd.setXY(4, 5)\n",
    "print(dd.__dict__)\n",
    "\n",
    "print(vars(CC))\n",
    "print(CC.__dict__)"
   ]
  },
  {
   "cell_type": "markdown",
   "metadata": {},
   "source": [
    "## 一些相关的内置函数（BIF）"
   ]
  },
  {
   "cell_type": "code",
   "execution_count": null,
   "metadata": {},
   "outputs": [],
   "source": [
    "issubclass(class, classinfo) 方法用于判断参数 class 是否是类型参数 classinfo 的子类。\n",
    "一个类被认为是其自身的子类。\n",
    "classinfo可以是类对象的元组，只要class是其中任何一个候选类的子类，则返回True。"
   ]
  },
  {
   "cell_type": "code",
   "execution_count": 104,
   "metadata": {},
   "outputs": [
    {
     "name": "stdout",
     "output_type": "stream",
     "text": [
      "True\n",
      "True\n",
      "False\n",
      "True\n"
     ]
    }
   ],
   "source": [
    "class A:\n",
    "    pass\n",
    "\n",
    "class B(A):\n",
    "    pass\n",
    "\n",
    "print(issubclass(B, A))\n",
    "print(issubclass(B, B))\n",
    "print(issubclass(A, B))\n",
    "print(issubclass(B, object))"
   ]
  },
  {
   "cell_type": "code",
   "execution_count": null,
   "metadata": {},
   "outputs": [],
   "source": [
    "isinstance(object, classinfo) 方法用于判断一个对象是否是一个已知的类型，类似type()。\n",
    "type()不会认为子类是一种父类类型，不考虑继承关系。\n",
    "isinstance()会认为子类是一种父类类型，考虑继承关系。\n",
    "如果第一个参数不是对象，则永远返回False。\n",
    "如果第二个参数不是类或者由类对象组成的元组，会抛出一个TypeError异常。"
   ]
  },
  {
   "cell_type": "code",
   "execution_count": 105,
   "metadata": {},
   "outputs": [
    {
     "name": "stdout",
     "output_type": "stream",
     "text": [
      "True\n",
      "False\n",
      "True\n"
     ]
    }
   ],
   "source": [
    "a = 2\n",
    "print(isinstance(a, int))\n",
    "print(isinstance(a, str))\n",
    "print(isinstance(a, (str, int, list)))"
   ]
  },
  {
   "cell_type": "code",
   "execution_count": 106,
   "metadata": {},
   "outputs": [
    {
     "name": "stdout",
     "output_type": "stream",
     "text": [
      "True\n",
      "True\n",
      "True\n",
      "False\n"
     ]
    }
   ],
   "source": [
    "class A:\n",
    "    pass\n",
    "\n",
    "class B(A):\n",
    "    pass\n",
    "\n",
    "print(isinstance(A(), A))\n",
    "print(type(A()) == A)\n",
    "print(isinstance(B(), A))\n",
    "print(type(B()) == A)"
   ]
  },
  {
   "cell_type": "markdown",
   "metadata": {},
   "source": [
    "### hasattr(object, name)用于判断对象是否包含对应的属性。"
   ]
  },
  {
   "cell_type": "code",
   "execution_count": 108,
   "metadata": {},
   "outputs": [
    {
     "name": "stdout",
     "output_type": "stream",
     "text": [
      "True\n",
      "True\n",
      "True\n",
      "False\n"
     ]
    }
   ],
   "source": [
    "class Coordinate:\n",
    "    x = 10\n",
    "    y = -5\n",
    "    z = 0\n",
    "    \n",
    "point1 = Coordinate()\n",
    "print(hasattr(point1, 'x'))\n",
    "print(hasattr(point1, 'y'))\n",
    "print(hasattr(point1, 'z'))\n",
    "print(hasattr(point1, 'no'))"
   ]
  },
  {
   "cell_type": "markdown",
   "metadata": {},
   "source": [
    "### getattr(object, name[, default])用于返回一个对象属性值。"
   ]
  },
  {
   "cell_type": "code",
   "execution_count": 109,
   "metadata": {},
   "outputs": [
    {
     "name": "stdout",
     "output_type": "stream",
     "text": [
      "1\n",
      "3\n"
     ]
    },
    {
     "ename": "AttributeError",
     "evalue": "'A' object has no attribute 'bar2'",
     "output_type": "error",
     "traceback": [
      "\u001b[1;31m---------------------------------------------------------------------------\u001b[0m",
      "\u001b[1;31mAttributeError\u001b[0m                            Traceback (most recent call last)",
      "\u001b[1;32m<ipython-input-109-e268a5227ee2>\u001b[0m in \u001b[0;36m<module>\u001b[1;34m\u001b[0m\n\u001b[0;32m      5\u001b[0m \u001b[0mprint\u001b[0m\u001b[1;33m(\u001b[0m\u001b[0mgetattr\u001b[0m\u001b[1;33m(\u001b[0m\u001b[0ma\u001b[0m\u001b[1;33m,\u001b[0m \u001b[1;34m'bar'\u001b[0m\u001b[1;33m)\u001b[0m\u001b[1;33m)\u001b[0m\u001b[1;33m\u001b[0m\u001b[1;33m\u001b[0m\u001b[0m\n\u001b[0;32m      6\u001b[0m \u001b[0mprint\u001b[0m\u001b[1;33m(\u001b[0m\u001b[0mgetattr\u001b[0m\u001b[1;33m(\u001b[0m\u001b[0ma\u001b[0m\u001b[1;33m,\u001b[0m \u001b[1;34m'bar2'\u001b[0m\u001b[1;33m,\u001b[0m \u001b[1;36m3\u001b[0m\u001b[1;33m)\u001b[0m\u001b[1;33m)\u001b[0m\u001b[1;33m\u001b[0m\u001b[1;33m\u001b[0m\u001b[0m\n\u001b[1;32m----> 7\u001b[1;33m \u001b[0mprint\u001b[0m\u001b[1;33m(\u001b[0m\u001b[0mgetattr\u001b[0m\u001b[1;33m(\u001b[0m\u001b[0ma\u001b[0m\u001b[1;33m,\u001b[0m \u001b[1;34m'bar2'\u001b[0m\u001b[1;33m)\u001b[0m\u001b[1;33m)\u001b[0m\u001b[1;33m\u001b[0m\u001b[1;33m\u001b[0m\u001b[0m\n\u001b[0m",
      "\u001b[1;31mAttributeError\u001b[0m: 'A' object has no attribute 'bar2'"
     ]
    }
   ],
   "source": [
    "class A(object):\n",
    "    bar = 1\n",
    "\n",
    "a = A()\n",
    "print(getattr(a, 'bar'))\n",
    "print(getattr(a, 'bar2', 3))\n",
    "print(getattr(a, 'bar2'))"
   ]
  },
  {
   "cell_type": "code",
   "execution_count": 110,
   "metadata": {},
   "outputs": [
    {
     "name": "stdout",
     "output_type": "stream",
     "text": [
      "2 1\n"
     ]
    }
   ],
   "source": [
    "class A(object):\n",
    "    def set(self, a, b):\n",
    "        x = a\n",
    "        a = b\n",
    "        b = x\n",
    "        print(a, b)\n",
    "        \n",
    "a = A()\n",
    "c = getattr(a, 'set')\n",
    "c(a='1', b='2')"
   ]
  },
  {
   "cell_type": "markdown",
   "metadata": {},
   "source": [
    "### setattr(object, name, value)对应函数 getattr()，用于设置属性值，该属性不一定是存在的。"
   ]
  },
  {
   "cell_type": "code",
   "execution_count": 111,
   "metadata": {},
   "outputs": [
    {
     "name": "stdout",
     "output_type": "stream",
     "text": [
      "1\n"
     ]
    }
   ],
   "source": [
    "class A(object):\n",
    "    bar = 1\n",
    "    \n",
    "a = A()\n",
    "print(getattr(a, 'bar'))\n",
    "setattr(a, 'bar', 5)\n",
    "print(a.bar)\n",
    "setattr(a, 'age', 28)\n",
    "print(a.age)"
   ]
  },
  {
   "cell_type": "markdown",
   "metadata": {},
   "source": [
    "### delattr(object, name)用于删除属性。"
   ]
  },
  {
   "cell_type": "code",
   "execution_count": 117,
   "metadata": {},
   "outputs": [
    {
     "name": "stdout",
     "output_type": "stream",
     "text": [
      "x =  10\n",
      "y =  -5\n",
      "z =  0\n",
      "--删除 z 属性后--\n",
      "x =  10\n",
      "y =  -5\n"
     ]
    },
    {
     "ename": "AttributeError",
     "evalue": "'Coordinate' object has no attribute 'z'",
     "output_type": "error",
     "traceback": [
      "\u001b[1;31m---------------------------------------------------------------------------\u001b[0m",
      "\u001b[1;31mAttributeError\u001b[0m                            Traceback (most recent call last)",
      "\u001b[1;32m<ipython-input-117-7d6cc1e3729f>\u001b[0m in \u001b[0;36m<module>\u001b[1;34m\u001b[0m\n\u001b[0;32m     15\u001b[0m \u001b[0mprint\u001b[0m\u001b[1;33m(\u001b[0m\u001b[1;34m'y = '\u001b[0m\u001b[1;33m,\u001b[0m\u001b[0mpoint1\u001b[0m\u001b[1;33m.\u001b[0m\u001b[0my\u001b[0m\u001b[1;33m)\u001b[0m\u001b[1;33m\u001b[0m\u001b[1;33m\u001b[0m\u001b[0m\n\u001b[0;32m     16\u001b[0m \u001b[1;33m\u001b[0m\u001b[0m\n\u001b[1;32m---> 17\u001b[1;33m \u001b[0mprint\u001b[0m\u001b[1;33m(\u001b[0m\u001b[1;34m'z = '\u001b[0m\u001b[1;33m,\u001b[0m\u001b[0mpoint1\u001b[0m\u001b[1;33m.\u001b[0m\u001b[0mz\u001b[0m\u001b[1;33m)\u001b[0m\u001b[1;33m\u001b[0m\u001b[1;33m\u001b[0m\u001b[0m\n\u001b[0m",
      "\u001b[1;31mAttributeError\u001b[0m: 'Coordinate' object has no attribute 'z'"
     ]
    }
   ],
   "source": [
    "class Coordinate:\n",
    "    x = 10\n",
    "    y = -5\n",
    "    z = 0\n",
    "    \n",
    "point1 = Coordinate()\n",
    "\n",
    "print('x = ',point1.x)\n",
    "print('y = ',point1.y)\n",
    "print('z = ',point1.z)\n",
    "\n",
    "delattr(Coordinate, 'z')\n",
    "print('--删除 z 属性后--')\n",
    "print('x = ',point1.x)\n",
    "print('y = ',point1.y)\n",
    "\n",
    "print('z = ',point1.z)"
   ]
  },
  {
   "cell_type": "code",
   "execution_count": null,
   "metadata": {},
   "outputs": [],
   "source": [
    "class property([fget[, fset[, fdel[, doc]]]])用于在新式类中返回属性值。\n",
    "fget -- 获取属性值的函数\n",
    "fset -- 设置属性值的函数\n",
    "fdel -- 删除属性值函数\n",
    "doc -- 属性描述信息"
   ]
  },
  {
   "cell_type": "code",
   "execution_count": 120,
   "metadata": {},
   "outputs": [
    {
     "name": "stdout",
     "output_type": "stream",
     "text": [
      "2\n"
     ]
    },
    {
     "ename": "AttributeError",
     "evalue": "'C' object has no attribute '_C__x'",
     "output_type": "error",
     "traceback": [
      "\u001b[1;31m---------------------------------------------------------------------------\u001b[0m",
      "\u001b[1;31mAttributeError\u001b[0m                            Traceback (most recent call last)",
      "\u001b[1;32m<ipython-input-120-49d5591985d5>\u001b[0m in \u001b[0;36m<module>\u001b[1;34m\u001b[0m\n\u001b[0;32m     19\u001b[0m \u001b[1;33m\u001b[0m\u001b[0m\n\u001b[0;32m     20\u001b[0m \u001b[1;32mdel\u001b[0m \u001b[0mcc\u001b[0m\u001b[1;33m.\u001b[0m\u001b[0mx\u001b[0m\u001b[1;33m\u001b[0m\u001b[1;33m\u001b[0m\u001b[0m\n\u001b[1;32m---> 21\u001b[1;33m \u001b[0mprint\u001b[0m\u001b[1;33m(\u001b[0m\u001b[0mcc\u001b[0m\u001b[1;33m.\u001b[0m\u001b[0mx\u001b[0m\u001b[1;33m)\u001b[0m\u001b[1;33m\u001b[0m\u001b[1;33m\u001b[0m\u001b[0m\n\u001b[0m",
      "\u001b[1;32m<ipython-input-120-49d5591985d5>\u001b[0m in \u001b[0;36mgetx\u001b[1;34m(self)\u001b[0m\n\u001b[0;32m      4\u001b[0m \u001b[1;33m\u001b[0m\u001b[0m\n\u001b[0;32m      5\u001b[0m     \u001b[1;32mdef\u001b[0m \u001b[0mgetx\u001b[0m\u001b[1;33m(\u001b[0m\u001b[0mself\u001b[0m\u001b[1;33m)\u001b[0m\u001b[1;33m:\u001b[0m\u001b[1;33m\u001b[0m\u001b[1;33m\u001b[0m\u001b[0m\n\u001b[1;32m----> 6\u001b[1;33m         \u001b[1;32mreturn\u001b[0m \u001b[0mself\u001b[0m\u001b[1;33m.\u001b[0m\u001b[0m__x\u001b[0m\u001b[1;33m\u001b[0m\u001b[1;33m\u001b[0m\u001b[0m\n\u001b[0m\u001b[0;32m      7\u001b[0m \u001b[1;33m\u001b[0m\u001b[0m\n\u001b[0;32m      8\u001b[0m     \u001b[1;32mdef\u001b[0m \u001b[0msetx\u001b[0m\u001b[1;33m(\u001b[0m\u001b[0mself\u001b[0m\u001b[1;33m,\u001b[0m \u001b[0mvalue\u001b[0m\u001b[1;33m)\u001b[0m\u001b[1;33m:\u001b[0m\u001b[1;33m\u001b[0m\u001b[1;33m\u001b[0m\u001b[0m\n",
      "\u001b[1;31mAttributeError\u001b[0m: 'C' object has no attribute '_C__x'"
     ]
    }
   ],
   "source": [
    "class C(object):\n",
    "    def __init__(self):\n",
    "        self.__x = None\n",
    "        \n",
    "    def getx(self):\n",
    "        return self.__x\n",
    "    \n",
    "    def setx(self, value):\n",
    "        self.__x = value\n",
    "        \n",
    "    def delx(self):\n",
    "        del self.__x\n",
    "        \n",
    "    x = property(getx, setx, delx, \"I'm the 'x' property.\")\n",
    "    \n",
    "cc = C()\n",
    "cc.x = 2\n",
    "print(cc.x)\n",
    "\n",
    "del cc.x\n",
    "print(cc.x)"
   ]
  },
  {
   "cell_type": "markdown",
   "metadata": {},
   "source": [
    "# 魔法方法"
   ]
  },
  {
   "cell_type": "code",
   "execution_count": null,
   "metadata": {},
   "outputs": [],
   "source": [
    "魔法方法总是被双下划线包围，例如__init__。\n",
    "魔法方法的第一个参数应为cls（类方法） 或者self（实例方法）。\n",
    "cls：代表一个类的名称\n",
    "self：代表一个实例对象的名称"
   ]
  },
  {
   "cell_type": "markdown",
   "metadata": {},
   "source": [
    "## 基本的魔法方法"
   ]
  },
  {
   "cell_type": "code",
   "execution_count": null,
   "metadata": {},
   "outputs": [],
   "source": [
    "__init__(self[, ...]) 构造器，当一个实例被创建的时候调用的初始化方法"
   ]
  },
  {
   "cell_type": "code",
   "execution_count": 121,
   "metadata": {},
   "outputs": [
    {
     "name": "stdout",
     "output_type": "stream",
     "text": [
      "18\n",
      "20\n"
     ]
    }
   ],
   "source": [
    "class Rectangle:\n",
    "    def __init__(self, x, y):\n",
    "        self.x = x\n",
    "        self.y = y\n",
    "        \n",
    "    def getPeri(self):\n",
    "        return(self.x + self.y) * 2\n",
    "    \n",
    "    def getArea(self):\n",
    "        return self.x * self.y\n",
    "    \n",
    "rect = Rectangle(4, 5)\n",
    "print(rect.getPeri())\n",
    "print(rect.getArea())"
   ]
  },
  {
   "cell_type": "markdown",
   "metadata": {},
   "source": [
    "### __new__(cls[,...])在一个对象实例化的时候所调用的第一个方法，在调用__init__初始化前，先调用__new__。\n",
    "1. __new__至少有一个参数cls，代表要实例化的类，此参数在实例化时由Python解释器自动提供，后面的参数直接传递给__init__。\n",
    "2. __new__对当前类进行了实例化，并将实例返回，传给__init__的self；\n",
    "    但执行了__new__，并不一定会进入__init__，只有__new__返回了，当前cls的实例，当前类的__init__才会进入。"
   ]
  },
  {
   "cell_type": "code",
   "execution_count": 122,
   "metadata": {},
   "outputs": [
    {
     "name": "stdout",
     "output_type": "stream",
     "text": [
      "into B __new__\n",
      "<class '__main__.B'>\n",
      "into A __new__\n",
      "<class '__main__.B'>\n",
      "into B __init__\n"
     ]
    }
   ],
   "source": [
    "class A(object):\n",
    "    def __init__(self, value):\n",
    "        print(\"into A __init__\")\n",
    "        self.value = value\n",
    "        \n",
    "    def __new__(cls, *args, **kwargs):\n",
    "        print(\"into A __new__\")\n",
    "        print(cls)\n",
    "        return object.__new__(cls)\n",
    "    \n",
    "class B(A):\n",
    "    def __init__(self, value):\n",
    "        print(\"into B __init__\")\n",
    "        self.value = value\n",
    "        \n",
    "    def __new__(cls, *args, **kwargs):\n",
    "        print(\"into B __new__\")\n",
    "        print(cls)\n",
    "        return super().__new__(cls, *args, **kwargs)\n",
    "    \n",
    "b = B(10)"
   ]
  },
  {
   "cell_type": "code",
   "execution_count": 1,
   "metadata": {},
   "outputs": [
    {
     "name": "stdout",
     "output_type": "stream",
     "text": [
      "into B __new__\n",
      "<class '__main__.B'>\n",
      "into A __new__\n",
      "<class '__main__.A'>\n"
     ]
    }
   ],
   "source": [
    "class A(object):\n",
    "    def __init__(self, value):\n",
    "        print(\"into A __init__\")\n",
    "        self.value = value\n",
    "        \n",
    "    def __new__(cls, *args, **kwargs):\n",
    "        print(\"into A __new__\")\n",
    "        print(cls)\n",
    "        return object.__new__(cls)\n",
    "    \n",
    "class B(A):\n",
    "    def __init__(self, value):\n",
    "        print(\"into B __init__\")\n",
    "        self.value = value\n",
    "        \n",
    "    def __new__(cls, *args, **kwargs):\n",
    "        print(\"into B __new__\")\n",
    "        print(cls)\n",
    "        return super().__new__(A, *args, **kwargs)  # 改动了cls变为A\n",
    "    \n",
    "b = B(10)"
   ]
  },
  {
   "cell_type": "markdown",
   "metadata": {},
   "source": [
    "### 若__new__没有正确返回当前类cls的实例，那__init__是不会被调用的，即使是父类的实例也不行，将没有__init__被调用。"
   ]
  },
  {
   "cell_type": "code",
   "execution_count": 4,
   "metadata": {},
   "outputs": [
    {
     "name": "stdout",
     "output_type": "stream",
     "text": [
      "2167969375184\n",
      "2167969155152\n",
      "2167969375712\n",
      "2167969375712\n"
     ]
    }
   ],
   "source": [
    "# 利用__new__实现单例模式。\n",
    "class Earth:\n",
    "    pass\n",
    "\n",
    "a = Earth()\n",
    "print(id(a))\n",
    "b = Earth()\n",
    "print(id(b))\n",
    "\n",
    "class Earth:\n",
    "    __instance = None  # 定义一个类属性做判断\n",
    "    \n",
    "    def __new__(cls):\n",
    "        if cls.__instance is None:\n",
    "            cls.__instance = object.__new__(cls)\n",
    "            return cls.__instance\n",
    "        else:\n",
    "            return cls.__instance\n",
    "        \n",
    "a = Earth()\n",
    "print(id(a))\n",
    "b = Earth()\n",
    "print(id(b))"
   ]
  },
  {
   "cell_type": "markdown",
   "metadata": {},
   "source": [
    "### __new__方法主要是当你继承一些不可变的 class 时（比如int, str, tuple），提供给你一个自定义这些类的实例化过程的途径。"
   ]
  },
  {
   "cell_type": "code",
   "execution_count": 3,
   "metadata": {},
   "outputs": [
    {
     "name": "stdout",
     "output_type": "stream",
     "text": [
      "I LOVE STRING\n"
     ]
    }
   ],
   "source": [
    "class CapStr(str):\n",
    "    def __new__(cls, string):\n",
    "        string = string.upper()\n",
    "        return str.__new__(cls, string)\n",
    "\n",
    "a = CapStr(\"i love string\")\n",
    "print(a)"
   ]
  },
  {
   "cell_type": "markdown",
   "metadata": {},
   "source": [
    "### __del__(self) 析构器，当一个对象将要被系统回收之时调用的方法。\n",
    "1. Python 采用自动引用计数（ARC）方式来回收对象所占用的空间，当程序中有一个变量引用该 Python 对象时，Python 会自动保证该对象引用计数为 1；当程序中有两个变量引用该 Python 对象时，Python 会自动保证该对象引用计数为 2，依此类推，如果一个对象的引用计数变成了 0，则说明程序中不再有变量引用该对象，表明程序不再需要该对象，因此 Python 就会回收该对象。\n",
    "\n",
    "2. 大部分时候，Python 的 ARC 都能准确、高效地回收系统中的每个对象。但如果系统中出现循环引用的情况，比如对象 a 持有一个实例变量引用对象 b，而对象 b 又持有一个实例变量引用对象 a，此时两个对象的引用计数都是 1，而实际上程序已经不再有变量引用它们，系统应该回收它们，此时 Python 的垃圾回收器就可能没那么快，要等专门的循环垃圾回收器（Cyclic Garbage Collector）来检测并回收这种引用循环。"
   ]
  },
  {
   "cell_type": "code",
   "execution_count": 5,
   "metadata": {},
   "outputs": [
    {
     "name": "stdout",
     "output_type": "stream",
     "text": [
      "into C __init__\n",
      "into C __del__\n",
      "into C __del__\n"
     ]
    }
   ],
   "source": [
    "class C(object):\n",
    "    def __init__(self):\n",
    "        print(\"into C __init__\")\n",
    "        \n",
    "    def __del__(self):\n",
    "        print(\"into C __del__\")\n",
    "        \n",
    "\n",
    "c1 = C()\n",
    "c2 = c1\n",
    "c3 = c2\n",
    "del c3\n",
    "del c2\n",
    "del c1"
   ]
  },
  {
   "cell_type": "markdown",
   "metadata": {},
   "source": [
    "### __str__(self)\n",
    "\n",
    "1. 当你打印一个对象的时候，触发`__str__`\n",
    "2. 当你使用%s格式化的时候，触发`__str__`\n",
    "3. str强转数据类型的时候，触发`__str__`\n",
    "\n",
    "### __repr__(self)\n",
    "1. repr是str的备胎\n",
    "2. 有`__str__`的时候执行`__str__`,没有实现`__str__`的时候，执行`__repr__`\n",
    "3. repr(obj)内置函数对应的结果是`__repr__`的返回值\n",
    "4. 当你使用%r格式化的时候 触发`__repr__`"
   ]
  },
  {
   "cell_type": "code",
   "execution_count": 14,
   "metadata": {},
   "outputs": [
    {
     "name": "stdout",
     "output_type": "stream",
     "text": [
      "名字是：汤姆，年龄是：30\n",
      "名字是：汤姆，年龄是：30\n",
      "Cat:(汤姆,30)\n",
      "汤姆在吃鱼……\n",
      "汤姆在喝可乐……\n",
      "名字是：汤姆，年龄是：30\n"
     ]
    }
   ],
   "source": [
    "class Cat:\n",
    "    \"\"\"定义一个猫类\"\"\"\n",
    "    \n",
    "    def __init__(self, new_name, new_age):\n",
    "        \"\"\"在创建完对象之后 会自动调用，它完成对象的初始化的功能\"\"\"\n",
    "        self.name = new_name\n",
    "        self.age = new_age\n",
    "        \n",
    "    def __str__(self):\n",
    "        return \"名字是：%s，年龄是：%d\" % (self.name, self.age)\n",
    "        \n",
    "    def __repr__(self):\n",
    "        return \"Cat:(%s,%d)\" % (self.name, self.age)\n",
    "    \n",
    "    def eat(self):\n",
    "        print(\"%s在吃鱼……\" % self.name)\n",
    "        \n",
    "    def drink(self):\n",
    "        print(\"%s在喝可乐……\" % self.name)\n",
    "        \n",
    "    def introduce(self):\n",
    "        print(\"名字是：%s，年龄是：%d\" % (self.name, self.age))\n",
    "        \n",
    "\n",
    "tom = Cat(\"汤姆\", 30)\n",
    "print(tom)\n",
    "print(str(tom))\n",
    "print(repr(tom))\n",
    "tom.eat()\n",
    "tom.drink()\n",
    "tom.introduce()"
   ]
  },
  {
   "cell_type": "markdown",
   "metadata": {},
   "source": [
    "### __str__(self) 的返回结果可读性强。也就是说，__str__ 的意义是得到便于人们阅读的信息，就像下面的 '2019-10-11' 一样。\n",
    "### __repr__(self) 的返回结果应更准确。怎么说，__repr__ 存在的目的在于调试，便于开发者使用。"
   ]
  },
  {
   "cell_type": "code",
   "execution_count": 17,
   "metadata": {},
   "outputs": [
    {
     "name": "stdout",
     "output_type": "stream",
     "text": [
      "2021-02-16\n",
      "datetime.date(2021, 2, 16)\n",
      "2021-02-16\n",
      "datetime.date(2021, 2, 16)\n"
     ]
    }
   ],
   "source": [
    "import datetime\n",
    "today = datetime.date.today()\n",
    "print(str(today))\n",
    "print(repr(today))\n",
    "print('%s' % today)\n",
    "print('%r' % today)"
   ]
  },
  {
   "cell_type": "markdown",
   "metadata": {},
   "source": [
    "## 算术运算符\n",
    "类型工厂函数，指的是“不通过类而是通过函数来创建对象”"
   ]
  },
  {
   "cell_type": "code",
   "execution_count": 22,
   "metadata": {},
   "outputs": [
    {
     "name": "stdout",
     "output_type": "stream",
     "text": [
      "<class 'builtin_function_or_method'>\n",
      "<class 'builtin_function_or_method'>\n",
      "<class 'type'>\n",
      "<class 'type'>\n",
      "<class 'type'>\n",
      "<class 'type'>\n",
      "123\n",
      "[1, 2, 3]\n"
     ]
    }
   ],
   "source": [
    "class C:\n",
    "    pass\n",
    "\n",
    "print(type(len))\n",
    "print(type(dir))\n",
    "print(type(int))\n",
    "print(type(list))\n",
    "print(type(tuple))\n",
    "print(type(C))\n",
    "print(int('123'))\n",
    "\n",
    "# 这个例子中List工厂函数把一个元组对象加工成了一个列表对象\n",
    "print(list((1, 2, 3)))"
   ]
  },
  {
   "cell_type": "markdown",
   "metadata": {},
   "source": [
    "### __add__(self, other)定义加法的行为：+\n",
    "### __sub__(self, other)定义减法的行为：-"
   ]
  },
  {
   "cell_type": "code",
   "execution_count": 23,
   "metadata": {},
   "outputs": [
    {
     "name": "stdout",
     "output_type": "stream",
     "text": [
      "高为： 10 重为： 5\n",
      "高为： 20 重为： 10\n",
      "高为： 10 重为： 5\n",
      "高为： 30 重为： 15\n"
     ]
    }
   ],
   "source": [
    "class MyClass:\n",
    "    def __init__(self, height, weight):\n",
    "        self.height = height\n",
    "        self.weight = weight\n",
    "        \n",
    "    def __add__(self, others):\n",
    "        return MyClass(self.height + others.height, self.weight + others.weight)\n",
    "    \n",
    "    def __sub__(self, others):\n",
    "        return MyClass(self.height - others.height, self.weight - others.weight)\n",
    "    \n",
    "    def intro(self):\n",
    "        print(\"高为：\",self.height, \"重为：\", self.weight)\n",
    "        \n",
    "\n",
    "def main():\n",
    "    a = MyClass(height = 10, weight = 5)\n",
    "    a.intro()\n",
    "    \n",
    "    b = MyClass(height = 20, weight = 10)\n",
    "    b.intro()\n",
    "    \n",
    "    c = b - a\n",
    "    c.intro()\n",
    "    \n",
    "    d = a + b\n",
    "    d.intro()\n",
    "    \n",
    "if __name__ == '__main__':\n",
    "    main()"
   ]
  },
  {
   "cell_type": "code",
   "execution_count": null,
   "metadata": {},
   "outputs": [],
   "source": [
    "__mul__(self, other)定义乘法的行为：*\n",
    "__truediv__(self, other)定义真除法的行为：/\n",
    "__floordiv__(self, other)定义整数除法的行为：//\n",
    "__mod__(self, other) 定义取模算法的行为：%\n",
    "__divmod__(self, other)定义当被 divmod() 调用时的行为\n",
    "divmod(a, b)把除数和余数运算结果结合起来，返回一个包含商和余数的元组(a // b, a % b)。"
   ]
  },
  {
   "cell_type": "code",
   "execution_count": 25,
   "metadata": {},
   "outputs": [
    {
     "name": "stdout",
     "output_type": "stream",
     "text": [
      "(3, 1)\n",
      "(2, 0)\n"
     ]
    }
   ],
   "source": [
    "print(divmod(7, 2))\n",
    "print(divmod(8, 4))"
   ]
  },
  {
   "cell_type": "code",
   "execution_count": null,
   "metadata": {},
   "outputs": [],
   "source": [
    "__pow__(self, other[, module])定义当被 power() 调用或 ** 运算时的行为\n",
    "__lshift__(self, other)定义按位左移位的行为：<<\n",
    "__rshift__(self, other)定义按位右移位的行为：>>\n",
    "__and__(self, other)定义按位与操作的行为：&\n",
    "__xor__(self, other)定义按位异或操作的行为：^\n",
    "__or__(self, other)定义按位或操作的行为：|"
   ]
  },
  {
   "cell_type": "markdown",
   "metadata": {},
   "source": [
    "## 反算术运算符\n",
    "反运算魔方方法，与算术运算符保持一一对应，不同之处就是反运算的魔法方法多了一个“r”。当文件左操作不支持相应的操作时被调用。"
   ]
  },
  {
   "cell_type": "code",
   "execution_count": null,
   "metadata": {},
   "outputs": [],
   "source": [
    "__radd__(self, other)定义加法的行为：+\n",
    "__rsub__(self, other)定义减法的行为：-\n",
    "__rmul__(self, other)定义乘法的行为：*\n",
    "__rtruediv__(self, other)定义真除法的行为：/\n",
    "__rfloordiv__(self, other)定义整数除法的行为：//\n",
    "__rmod__(self, other) 定义取模算法的行为：%\n",
    "__rdivmod__(self, other)定义当被 divmod() 调用时的行为\n",
    "__rpow__(self, other[, module])定义当被 power() 调用或 ** 运算时的行为\n",
    "__rlshift__(self, other)定义按位左移位的行为：<<\n",
    "__rrshift__(self, other)定义按位右移位的行为：>>\n",
    "__rand__(self, other)定义按位与操作的行为：&\n",
    "__rxor__(self, other)定义按位异或操作的行为：^\n",
    "__ror__(self, other)定义按位或操作的行为：|"
   ]
  },
  {
   "cell_type": "markdown",
   "metadata": {},
   "source": [
    "### 说明：\n",
    "### a + b\n",
    "\n",
    "这里加数是a，被加数是b，因此是a主动，反运算就是如果a对象的__add__()方法没有实现或者不支持相应的操作，那么 Python 就会调用b的__radd__()方法。"
   ]
  },
  {
   "cell_type": "code",
   "execution_count": 28,
   "metadata": {},
   "outputs": [
    {
     "name": "stdout",
     "output_type": "stream",
     "text": [
      "8\n",
      "-2\n"
     ]
    }
   ],
   "source": [
    "class Nint(int):\n",
    "    def __radd__(self, other):\n",
    "        return int.__sub__(other, self)\n",
    "\n",
    "a = Nint(5)\n",
    "b = Nint(3)\n",
    "print(a + b)\n",
    "print(1 + b)"
   ]
  },
  {
   "cell_type": "code",
   "execution_count": 29,
   "metadata": {},
   "outputs": [
    {
     "name": "stdout",
     "output_type": "stream",
     "text": [
      "6\n"
     ]
    }
   ],
   "source": [
    "b= 5\n",
    "print(1 + b)"
   ]
  },
  {
   "cell_type": "markdown",
   "metadata": {},
   "source": [
    "## 增量赋值运算符"
   ]
  },
  {
   "cell_type": "code",
   "execution_count": null,
   "metadata": {},
   "outputs": [],
   "source": [
    "__iadd__(self, other)定义赋值加法的行为：+=\n",
    "__isub__(self, other)定义赋值减法的行为：-=\n",
    "__imul__(self, other)定义赋值乘法的行为：*=\n",
    "__itruediv__(self, other)定义赋值真除法的行为：/=\n",
    "__ifloordiv__(self, other)定义赋值整数除法的行为：//=\n",
    "__imod__(self, other)定义赋值取模算法的行为：%=\n",
    "__ipow__(self, other[, modulo])定义赋值幂运算的行为：**=\n",
    "__ilshift__(self, other)定义赋值按位左移位的行为：<<=\n",
    "__irshift__(self, other)定义赋值按位右移位的行为：>>=\n",
    "__iand__(self, other)定义赋值按位与操作的行为：&=\n",
    "__ixor__(self, other)定义赋值按位异或操作的行为：^=\n",
    "__ior__(self, other)定义赋值按位或操作的行为：|="
   ]
  },
  {
   "cell_type": "markdown",
   "metadata": {},
   "source": [
    "## 一元运算符"
   ]
  },
  {
   "cell_type": "code",
   "execution_count": null,
   "metadata": {},
   "outputs": [],
   "source": [
    "__neg__(self)定义正号的行为：+x\n",
    "__pos__(self)定义负号的行为：-x\n",
    "__abs__(self)定义当被abs()调用时的行为\n",
    "__invert__(self)定义按位求反的行为：~x"
   ]
  },
  {
   "cell_type": "markdown",
   "metadata": {},
   "source": [
    "## 属性访问"
   ]
  },
  {
   "cell_type": "code",
   "execution_count": null,
   "metadata": {},
   "outputs": [],
   "source": [
    "__getattr__(self, name): 定义当用户试图获取一个不存在的属性时的行为。\n",
    "__getattribute__(self, name)：定义当该类的属性被访问时的行为（先调用该方法，查看是否存在该属性，若不存在，接着去调用__getattr__）。\n",
    "__setattr__(self, name, value)：定义当一个属性被设置时的行为。\n",
    "__delattr__(self, name)：定义当一个属性被删除时的行为。"
   ]
  },
  {
   "cell_type": "code",
   "execution_count": 32,
   "metadata": {},
   "outputs": [
    {
     "name": "stdout",
     "output_type": "stream",
     "text": [
      "__getattribute__\n",
      "__getattr__\n",
      "__setattr__\n",
      "__delattr__\n"
     ]
    }
   ],
   "source": [
    "class C:\n",
    "    def __getattribute__(self, item):\n",
    "        print('__getattribute__')\n",
    "        return super().__getattribute__(item)\n",
    "    \n",
    "    def __getattr__(self, item):\n",
    "        print('__getattr__')\n",
    "        \n",
    "    def __setattr__(self, key, value):\n",
    "        print('__setattr__')\n",
    "        super().__setattr__(key, value)\n",
    "        \n",
    "    def __delattr__(self, item):\n",
    "        print('__delattr__')\n",
    "        super().__delattr__(item)\n",
    "        \n",
    "c = C()\n",
    "c.x\n",
    "\n",
    "c.x = 1\n",
    "\n",
    "del c.x"
   ]
  },
  {
   "cell_type": "markdown",
   "metadata": {},
   "source": [
    "## 描述符\n",
    "描述符就是将某种特殊类型的类的实例指派给另一个类的属性。"
   ]
  },
  {
   "cell_type": "code",
   "execution_count": null,
   "metadata": {},
   "outputs": [],
   "source": [
    "__get__(self, instance, owner)用于访问属性，它返回属性的值。\n",
    "__set__(self, instance, value)将在属性分配操作中调用，不返回任何内容。\n",
    "__del__(self, instance)控制删除操作，不返回任何内容"
   ]
  },
  {
   "cell_type": "code",
   "execution_count": 34,
   "metadata": {},
   "outputs": [
    {
     "name": "stdout",
     "output_type": "stream",
     "text": [
      "__get__ <__main__.MyDescriptor object at 0x00000241ABDEB310> <__main__.Test object at 0x00000241ABDEBD30> <class '__main__.Test'>\n",
      "__set__ <__main__.MyDescriptor object at 0x00000241ABDEB310> <__main__.Test object at 0x00000241ABDEBD30> x-man\n",
      "__delete__ <__main__.MyDescriptor object at 0x00000241ABDEB310> <__main__.Test object at 0x00000241ABDEBD30>\n"
     ]
    }
   ],
   "source": [
    "class MyDescriptor:\n",
    "    def __get__(self, instance, owner):\n",
    "        print('__get__', self, instance, owner)\n",
    "    \n",
    "    def __set__(self, instance, value):\n",
    "        print('__set__',self, instance, value)\n",
    "    \n",
    "    def __delete__(self, instance):\n",
    "        print('__delete__', self, instance)\n",
    "        \n",
    "class Test:\n",
    "    x = MyDescriptor()\n",
    "    \n",
    "    \n",
    "t = Test()\n",
    "t.x\n",
    "\n",
    "t.x = 'x-man'\n",
    "\n",
    "del t.x\n"
   ]
  },
  {
   "cell_type": "markdown",
   "metadata": {},
   "source": [
    "## 定制序列\n",
    "协议（Protocols）与其它编程语言中的接口很相似，它规定你哪些方法必须要定义。然而，在 Python 中的协议就显得不那么正式。事实上，在 Python 中，协议更像是一种指南。"
   ]
  },
  {
   "cell_type": "markdown",
   "metadata": {},
   "source": [
    "#### 容器类型的协议\n",
    "\n",
    "如果说你希望定制的容器是不可变的话，你只需要定义__len__()和__getitem__()方法。\n",
    "如果你希望定制的容器是可变的话，除了__len__()和__getitem__()方法，你还需要定义__setitem__()和__delitem__()两个方法。"
   ]
  },
  {
   "cell_type": "code",
   "execution_count": 35,
   "metadata": {},
   "outputs": [
    {
     "name": "stdout",
     "output_type": "stream",
     "text": [
      "3\n",
      "6\n",
      "7\n"
     ]
    }
   ],
   "source": [
    "# 编写一个不可改变的自定义列表，要求记录列表中每个元素被访问的次数。\n",
    "class CountList:\n",
    "    def __init__(self, *args):\n",
    "        self.values = [x for x in args]\n",
    "        self.count = {}.fromkeys(range(len(self.values)), 0)\n",
    "        \n",
    "    def __len__(self):\n",
    "        return len(self.values)\n",
    "    \n",
    "    def __getitem__(self, item):\n",
    "        self.count[item] += 1\n",
    "        return self.values[item]\n",
    "    \n",
    "c1 = CountList(1, 3, 5, 7, 9)\n",
    "c2 = CountList(2, 4, 6, 8, 10)\n",
    "print(c1[1])\n",
    "print(c2[2])\n",
    "print(c1[1] + c2[1])"
   ]
  },
  {
   "cell_type": "code",
   "execution_count": null,
   "metadata": {},
   "outputs": [],
   "source": [
    "__len__(self)定义当被len()调用时的行为（返回容器中元素的个数）。\n",
    "__getitem__(self, key)定义获取容器中元素的行为，相当于self[key]。\n",
    "__setitem__(self, key, value)定义设置容器中指定元素的行为，相当于self[key] = value。\n",
    "__delitem__(self, key)定义删除容器中指定元素的行为，相当于del self[key]。"
   ]
  },
  {
   "cell_type": "code",
   "execution_count": 41,
   "metadata": {},
   "outputs": [
    {
     "name": "stdout",
     "output_type": "stream",
     "text": [
      "3\n",
      "6\n",
      "15\n",
      "{0: 0, 1: 2, 2: 0, 3: 0, 4: 0}\n",
      "{0: 0, 1: 0, 2: 2, 3: 0, 4: 0}\n",
      "{0: 0, 1: 0, 2: 0, 3: 0}\n"
     ]
    }
   ],
   "source": [
    "# 编写一个可改变的自定义列表，要求记录列表中每个元素被访问的次数。\n",
    "class CountList:\n",
    "    def __init__(self, *args):\n",
    "        self.values = [x for x in args]\n",
    "        self.count = {}.fromkeys(range(len(self.values)),0)\n",
    "        \n",
    "    def __len__(self):\n",
    "        return(len(self.values))\n",
    "    \n",
    "    def __getitem__(self, item):\n",
    "        self.count[item] += 1\n",
    "        return self.values[item]\n",
    "    \n",
    "    def __setitem__(self, key, value):\n",
    "        self.values[key] = value\n",
    "        \n",
    "    def __delitem__(self, key):\n",
    "        del self.values[key]\n",
    "        for i in range(0, len(self.values)):\n",
    "            if i >= key:\n",
    "                self.count[i] = self.count[i + 1]\n",
    "        self.count.pop(len(self.values))\n",
    "        \n",
    "\n",
    "c1 = CountList(1, 3, 5, 7, 9)\n",
    "c2 = CountList(2, 4, 6, 8, 10)\n",
    "print(c1[1])\n",
    "print(c2[2])\n",
    "\n",
    "c2[2] = 12\n",
    "print(c1[1] + c2[2])\n",
    "print(c1.count)\n",
    "print(c2.count)\n",
    "\n",
    "del c1[1]\n",
    "print(c1.count)"
   ]
  },
  {
   "cell_type": "markdown",
   "metadata": {},
   "source": [
    "# 迭代器\n",
    "## 迭代是 Python 最强大的功能之一，是访问集合元素的一种方式。\n",
    "## 迭代器是一个可以记住遍历的位置的对象。\n",
    "## 迭代器对象从集合的第一个元素开始访问，直到所有的元素被访问完结束。\n",
    "## 迭代器只能往前不会后退。\n",
    "## 字符串，列表或元组对象都可用于创建迭代器"
   ]
  },
  {
   "cell_type": "code",
   "execution_count": 42,
   "metadata": {},
   "outputs": [
    {
     "name": "stdout",
     "output_type": "stream",
     "text": [
      "l\n",
      "s\n",
      "g\n",
      "o\n",
      "g\n",
      "r\n",
      "o\n",
      "u\n",
      "p\n"
     ]
    }
   ],
   "source": [
    "string = 'lsgogroup'\n",
    "for c in string:\n",
    "    print(c)"
   ]
  },
  {
   "cell_type": "code",
   "execution_count": 43,
   "metadata": {},
   "outputs": [
    {
     "name": "stdout",
     "output_type": "stream",
     "text": [
      "l\n",
      "s\n",
      "g\n",
      "o\n",
      "g\n",
      "r\n",
      "o\n",
      "u\n",
      "p\n"
     ]
    }
   ],
   "source": [
    "for c in iter(string):\n",
    "    print(c)"
   ]
  },
  {
   "cell_type": "code",
   "execution_count": 44,
   "metadata": {},
   "outputs": [
    {
     "name": "stdout",
     "output_type": "stream",
     "text": [
      "B -> 百度\n",
      "A -> 阿里\n",
      "T -> 腾讯\n"
     ]
    }
   ],
   "source": [
    "links = {'B': '百度', 'A': '阿里', 'T': '腾讯'}\n",
    "for each in links:\n",
    "    print('%s -> %s' % (each, links[each]))"
   ]
  },
  {
   "cell_type": "code",
   "execution_count": 45,
   "metadata": {},
   "outputs": [
    {
     "name": "stdout",
     "output_type": "stream",
     "text": [
      "B -> 百度\n",
      "A -> 阿里\n",
      "T -> 腾讯\n"
     ]
    }
   ],
   "source": [
    "for each in iter(links):\n",
    "    print('%s -> %s' % (each, links[each]))"
   ]
  },
  {
   "cell_type": "markdown",
   "metadata": {},
   "source": [
    "### 迭代器有两个基本的方法：iter() 和 next()。\n",
    "### iter(object) 函数用来生成迭代器。\n",
    "### next(iterator[, default]) 返回迭代器的下一个项目。\n",
    "### iterator -- 可迭代对象\n",
    "### default -- 可选，用于设置在没有下一个元素时返回该默认值，如果不设置，又没有下一个元素则会触发 StopIteration 异常。"
   ]
  },
  {
   "cell_type": "code",
   "execution_count": 48,
   "metadata": {},
   "outputs": [
    {
     "name": "stdout",
     "output_type": "stream",
     "text": [
      "B\n",
      "A\n",
      "T\n",
      "B\n",
      "A\n",
      "T\n"
     ]
    },
    {
     "ename": "StopIteration",
     "evalue": "",
     "output_type": "error",
     "traceback": [
      "\u001b[1;31m---------------------------------------------------------------------------\u001b[0m",
      "\u001b[1;31mStopIteration\u001b[0m                             Traceback (most recent call last)",
      "\u001b[1;32m<ipython-input-48-f91a70828925>\u001b[0m in \u001b[0;36m<module>\u001b[1;34m\u001b[0m\n\u001b[0;32m     12\u001b[0m \u001b[0mprint\u001b[0m\u001b[1;33m(\u001b[0m\u001b[0mnext\u001b[0m\u001b[1;33m(\u001b[0m\u001b[0mit\u001b[0m\u001b[1;33m)\u001b[0m\u001b[1;33m)\u001b[0m\u001b[1;33m\u001b[0m\u001b[1;33m\u001b[0m\u001b[0m\n\u001b[0;32m     13\u001b[0m \u001b[0mprint\u001b[0m\u001b[1;33m(\u001b[0m\u001b[0mnext\u001b[0m\u001b[1;33m(\u001b[0m\u001b[0mit\u001b[0m\u001b[1;33m)\u001b[0m\u001b[1;33m)\u001b[0m\u001b[1;33m\u001b[0m\u001b[1;33m\u001b[0m\u001b[0m\n\u001b[1;32m---> 14\u001b[1;33m \u001b[0mprint\u001b[0m\u001b[1;33m(\u001b[0m\u001b[0mnext\u001b[0m\u001b[1;33m(\u001b[0m\u001b[0mit\u001b[0m\u001b[1;33m)\u001b[0m\u001b[1;33m)\u001b[0m\u001b[1;33m\u001b[0m\u001b[1;33m\u001b[0m\u001b[0m\n\u001b[0m",
      "\u001b[1;31mStopIteration\u001b[0m: "
     ]
    }
   ],
   "source": [
    "links = {'B': '百度', 'A': '阿里', 'T': '腾讯'}\n",
    "it = iter(links)\n",
    "while True:\n",
    "    try:\n",
    "        each = next(it)\n",
    "    except StopIteration:\n",
    "        break\n",
    "    print(each)\n",
    "    \n",
    "it = iter(links)\n",
    "print(next(it))\n",
    "print(next(it))\n",
    "print(next(it))\n",
    "print(next(it))"
   ]
  },
  {
   "cell_type": "markdown",
   "metadata": {},
   "source": [
    "## 把一个类作为一个迭代器使用需要在类中实现两个魔法方法 __iter__() 与 __next__() 。\n",
    "\n",
    "### __iter__(self)定义当迭代容器中的元素的行为，返回一个特殊的迭代器对象， 这个迭代器对象实现了 __next__() 方法并通过 StopIteration 异常标识迭代的完成。\n",
    "### __next__() 返回下一个迭代器对象。\n",
    "### StopIteration 异常用于标识迭代的完成，防止出现无限循环的情况，在 __next__() 方法中我们可以设置在完成指定循环次数后触发 StopIteration 异常来结束迭代。"
   ]
  },
  {
   "cell_type": "code",
   "execution_count": 49,
   "metadata": {},
   "outputs": [
    {
     "name": "stdout",
     "output_type": "stream",
     "text": [
      "1 1 2 3 5 8 13 21 34 55 89 "
     ]
    }
   ],
   "source": [
    "class Fibs:\n",
    "    def __init__(self, n=10):\n",
    "        self.a = 0\n",
    "        self.b = 1\n",
    "        self.n = n\n",
    "        \n",
    "    def __iter__(self):\n",
    "        return self\n",
    "    \n",
    "    def __next__(self):\n",
    "        self.a, self.b = self.b, self.a + self.b\n",
    "        if self.a > self.n:\n",
    "            raise StopIteration\n",
    "        return self.a\n",
    "    \n",
    "fibs = Fibs(100)\n",
    "for each in fibs:\n",
    "    print(each, end = ' ')"
   ]
  },
  {
   "cell_type": "markdown",
   "metadata": {},
   "source": [
    "## 生成器\n",
    "\n",
    "### 在 Python 中，使用了 yield 的函数被称为生成器（generator）。\n",
    "### 跟普通函数不同的是，生成器是一个返回迭代器的函数，只能用于迭代操作，更简单点理解生成器就是一个迭代器。\n",
    "### 在调用生成器运行的过程中，每次遇到 yield 时函数会暂停并保存当前所有的运行信息，返回 yield 的值, 并在下一次执行 next() 方法时从当前位置继续运行。\n",
    "### 调用一个生成器函数，返回的是一个迭代器对象。"
   ]
  },
  {
   "cell_type": "code",
   "execution_count": 54,
   "metadata": {},
   "outputs": [
    {
     "name": "stdout",
     "output_type": "stream",
     "text": [
      "生成器执行！\n",
      "1\n",
      "2\n",
      "生成器执行！\n",
      "1\n",
      "2\n"
     ]
    },
    {
     "ename": "StopIteration",
     "evalue": "",
     "output_type": "error",
     "traceback": [
      "\u001b[1;31m---------------------------------------------------------------------------\u001b[0m",
      "\u001b[1;31mStopIteration\u001b[0m                             Traceback (most recent call last)",
      "\u001b[1;32m<ipython-input-54-f695e95034c5>\u001b[0m in \u001b[0;36m<module>\u001b[1;34m\u001b[0m\n\u001b[0;32m     12\u001b[0m \u001b[1;33m\u001b[0m\u001b[0m\n\u001b[0;32m     13\u001b[0m \u001b[0mprint\u001b[0m\u001b[1;33m(\u001b[0m\u001b[0mnext\u001b[0m\u001b[1;33m(\u001b[0m\u001b[0mmyG\u001b[0m\u001b[1;33m)\u001b[0m\u001b[1;33m)\u001b[0m\u001b[1;33m\u001b[0m\u001b[1;33m\u001b[0m\u001b[0m\n\u001b[1;32m---> 14\u001b[1;33m \u001b[0mprint\u001b[0m\u001b[1;33m(\u001b[0m\u001b[0mnext\u001b[0m\u001b[1;33m(\u001b[0m\u001b[0mmyG\u001b[0m\u001b[1;33m)\u001b[0m\u001b[1;33m)\u001b[0m\u001b[1;33m\u001b[0m\u001b[1;33m\u001b[0m\u001b[0m\n\u001b[0m",
      "\u001b[1;31mStopIteration\u001b[0m: "
     ]
    }
   ],
   "source": [
    "def myGen():\n",
    "    print('生成器执行！')\n",
    "    yield 1\n",
    "    yield 2\n",
    "    \n",
    "myG = myGen()\n",
    "for each in myG:\n",
    "    print(each)\n",
    "    \n",
    "myG = myGen()\n",
    "print(next(myG))\n",
    "\n",
    "print(next(myG))\n",
    "print(next(myG))"
   ]
  },
  {
   "cell_type": "code",
   "execution_count": 55,
   "metadata": {},
   "outputs": [
    {
     "name": "stdout",
     "output_type": "stream",
     "text": [
      "1 1 2 3 5 8 13 21 34 55 89 "
     ]
    }
   ],
   "source": [
    "# 用生成器实现斐波那契数列。\n",
    "def libs(n):\n",
    "    a = 0\n",
    "    b = 1\n",
    "    while True:\n",
    "        a, b = b, a + b\n",
    "        if a > n:\n",
    "            return\n",
    "        yield a\n",
    "        \n",
    "for each in libs(100):\n",
    "    print(each, end=' ')"
   ]
  },
  {
   "cell_type": "code",
   "execution_count": null,
   "metadata": {},
   "outputs": [],
   "source": []
  }
 ],
 "metadata": {
  "kernelspec": {
   "display_name": "Python 3",
   "language": "python",
   "name": "python3"
  },
  "language_info": {
   "codemirror_mode": {
    "name": "ipython",
    "version": 3
   },
   "file_extension": ".py",
   "mimetype": "text/x-python",
   "name": "python",
   "nbconvert_exporter": "python",
   "pygments_lexer": "ipython3",
   "version": "3.8.5"
  }
 },
 "nbformat": 4,
 "nbformat_minor": 4
}
